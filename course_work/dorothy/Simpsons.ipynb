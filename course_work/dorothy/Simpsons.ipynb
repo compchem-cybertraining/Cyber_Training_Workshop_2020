{
 "cells": [
  {
   "cell_type": "code",
   "execution_count": null,
   "metadata": {},
   "outputs": [],
   "source": [
    "import numpy as np"
   ]
  },
  {
   "cell_type": "code",
   "execution_count": null,
   "metadata": {},
   "outputs": [],
   "source": [
    "def func(x):\n",
    "    \"\"\"\n",
    "    Define the function of x to be integrated\n",
    "    \"\"\"\n",
    "    res = x**2\n",
    "    return(res)"
   ]
  },
  {
   "cell_type": "code",
   "execution_count": null,
   "metadata": {},
   "outputs": [],
   "source": [
    "def simpson(func, x, dx, n):\n",
    "    \"\"\"\n",
    "    evaluates the integral by simpsons rule\n",
    "    n is the number of integration intervals\n",
    "    the lower bound is x and the upper bound is x+n*dx\n",
    "    \"\"\"\n",
    "    # Create list of weights\n",
    "    weights = [1]\n",
    "    if (n-1)%2 == 0:\n",
    "        max = int((n-1)/2)\n",
    "        weights += max*[4,2]\n",
    "        weights += [1]\n",
    "    elif (n-1)%2 == 1:\n",
    "        max = int((n-2)/2)\n",
    "        weights += max*[4,2]\n",
    "        weights += [4,1]\n",
    "    weights = np.array(weights)\n",
    "    integral = 0.\n",
    "    for i in range(0,n+1):\n",
    "        func_comp = func(x+(i*dx))\n",
    "        # calculate the product of the function at func(x+(i*dx)) \n",
    "        # and its corresponding weight\n",
    "        integral += func_comp*weights[i]\n",
    "    integral = integral*(dx/3.)\n",
    "    return (integral)"
   ]
  }
 ],
 "metadata": {
  "kernelspec": {
   "display_name": "Python 3",
   "language": "python",
   "name": "python3"
  },
  "language_info": {
   "codemirror_mode": {
    "name": "ipython",
    "version": 3
   },
   "file_extension": ".py",
   "mimetype": "text/x-python",
   "name": "python",
   "nbconvert_exporter": "python",
   "pygments_lexer": "ipython3",
   "version": "3.8.5"
  }
 },
 "nbformat": 4,
 "nbformat_minor": 4
}
