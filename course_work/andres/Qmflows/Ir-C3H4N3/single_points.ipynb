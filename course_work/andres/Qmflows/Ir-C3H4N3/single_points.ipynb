{
 "cells": [
  {
   "cell_type": "code",
   "execution_count": 2,
   "id": "6960c827",
   "metadata": {},
   "outputs": [],
   "source": [
    "import h5py"
   ]
  },
  {
   "cell_type": "code",
   "execution_count": 3,
   "id": "f0be8c8a",
   "metadata": {},
   "outputs": [],
   "source": [
    "f = h5py.File('iridium-1.hdf5','r')"
   ]
  },
  {
   "cell_type": "code",
   "execution_count": 4,
   "id": "2f970250",
   "metadata": {},
   "outputs": [
    {
     "data": {
      "text/plain": [
       "<KeysViewHDF5 ['coefficients', 'cp2k', 'eigenvalues']>"
      ]
     },
     "execution_count": 4,
     "metadata": {},
     "output_type": "execute_result"
    }
   ],
   "source": [
    "f.keys()"
   ]
  },
  {
   "cell_type": "code",
   "execution_count": 5,
   "id": "ebe4565e",
   "metadata": {},
   "outputs": [],
   "source": [
    "e_ao = f['eigenvalues/point_0'][()]"
   ]
  },
  {
   "cell_type": "code",
   "execution_count": 6,
   "id": "21f9cee3",
   "metadata": {},
   "outputs": [
    {
     "data": {
      "text/plain": [
       "(100,)"
      ]
     },
     "execution_count": 6,
     "metadata": {},
     "output_type": "execute_result"
    }
   ],
   "source": [
    "e_ao.shape"
   ]
  },
  {
   "cell_type": "code",
   "execution_count": 7,
   "id": "45e4a26c",
   "metadata": {},
   "outputs": [
    {
     "data": {
      "text/plain": [
       "array([-3.4559004 , -1.9257356 , -1.9257002 , -1.9151089 , -0.7872447 ,\n",
       "       -0.783004  , -0.7822912 , -0.62828094, -0.6271628 , -0.6266023 ,\n",
       "       -0.5215552 , -0.50810146, -0.5073219 , -0.43353802, -0.4297624 ,\n",
       "       -0.428949  , -0.40929046, -0.4083463 , -0.4068004 , -0.34337506,\n",
       "       -0.32789007, -0.3271614 , -0.3041484 , -0.2980505 , -0.2980287 ,\n",
       "       -0.28129858, -0.2807471 , -0.26622343, -0.26047915, -0.2600243 ,\n",
       "       -0.25225043, -0.19527523, -0.19508521, -0.18566789, -0.18191506,\n",
       "       -0.16944821, -0.16904525, -0.12461036, -0.12421425, -0.10654306,\n",
       "       -0.02244571, -0.00924796, -0.00860979,  0.09810333,  0.09818137,\n",
       "        0.10314376,  0.10889965,  0.1096947 ,  0.13691993,  0.15193269,\n",
       "        0.15318327,  0.18715519,  0.21155082,  0.21257448,  0.21603735,\n",
       "        0.23008525,  0.2307665 ,  0.23977187,  0.        ,  0.        ,\n",
       "        0.        ,  0.        ,  0.        ,  0.        ,  0.        ,\n",
       "        0.        ,  0.        ,  0.        ,  0.        ,  0.        ,\n",
       "        0.        ,  0.        ,  0.        ,  0.        ,  0.        ,\n",
       "        0.        ,  0.        ,  0.        ,  0.        ,  0.        ,\n",
       "        0.        ,  0.        ,  0.        ,  0.        ,  0.        ,\n",
       "        0.        ,  0.        ,  0.        ,  0.        ,  0.        ,\n",
       "        0.        ,  0.        ,  0.        ,  0.        ,  0.        ,\n",
       "        0.        ,  0.        ,  0.        ,  0.        ,  0.        ],\n",
       "      dtype=float32)"
      ]
     },
     "execution_count": 7,
     "metadata": {},
     "output_type": "execute_result"
    }
   ],
   "source": [
    "e_ao"
   ]
  },
  {
   "cell_type": "code",
   "execution_count": null,
   "id": "56501ad6",
   "metadata": {},
   "outputs": [],
   "source": []
  },
  {
   "cell_type": "code",
   "execution_count": 8,
   "id": "722d53d5",
   "metadata": {},
   "outputs": [],
   "source": [
    "c_ao = f['coefficients/point_0'][()]"
   ]
  },
  {
   "cell_type": "code",
   "execution_count": 9,
   "id": "9751ddd9",
   "metadata": {},
   "outputs": [
    {
     "data": {
      "text/plain": [
       "(242, 100)"
      ]
     },
     "execution_count": 9,
     "metadata": {},
     "output_type": "execute_result"
    }
   ],
   "source": [
    "c_ao.shape"
   ]
  },
  {
   "cell_type": "code",
   "execution_count": 10,
   "id": "a0528f7e",
   "metadata": {},
   "outputs": [
    {
     "data": {
      "text/plain": [
       "array([[-9.96991158e-01, -1.01298065e-05,  1.35307528e-05, ...,\n",
       "         0.00000000e+00,  0.00000000e+00,  0.00000000e+00],\n",
       "       [-1.15421653e-01,  1.37034885e-05, -1.40948960e-05, ...,\n",
       "         7.41021538e-38,  0.00000000e+00,  9.96323208e-43],\n",
       "       [-2.99438252e-03, -4.53948496e-06,  2.22650601e-06, ...,\n",
       "         0.00000000e+00,  0.00000000e+00,  0.00000000e+00],\n",
       "       ...,\n",
       "       [ 2.45262090e-05, -7.13583577e-05,  2.46302050e-04, ...,\n",
       "         0.00000000e+00,  0.00000000e+00,  0.00000000e+00],\n",
       "       [ 1.90674851e-04, -1.19016404e-05, -1.04591651e-04, ...,\n",
       "         0.00000000e+00,  7.27273903e-43,  0.00000000e+00],\n",
       "       [ 3.18192819e-04, -1.95107805e-06,  8.64057292e-05, ...,\n",
       "         0.00000000e+00,  0.00000000e+00,  0.00000000e+00]], dtype=float32)"
      ]
     },
     "execution_count": 10,
     "metadata": {},
     "output_type": "execute_result"
    }
   ],
   "source": [
    "c_ao"
   ]
  },
  {
   "cell_type": "code",
   "execution_count": null,
   "id": "f36f8596",
   "metadata": {},
   "outputs": [],
   "source": []
  }
 ],
 "metadata": {
  "kernelspec": {
   "display_name": "Python 3.6 (qmflows)",
   "language": "python",
   "name": "qmflows"
  },
  "language_info": {
   "codemirror_mode": {
    "name": "ipython",
    "version": 3
   },
   "file_extension": ".py",
   "mimetype": "text/x-python",
   "name": "python",
   "nbconvert_exporter": "python",
   "pygments_lexer": "ipython3",
   "version": "3.7.10"
  }
 },
 "nbformat": 4,
 "nbformat_minor": 5
}
