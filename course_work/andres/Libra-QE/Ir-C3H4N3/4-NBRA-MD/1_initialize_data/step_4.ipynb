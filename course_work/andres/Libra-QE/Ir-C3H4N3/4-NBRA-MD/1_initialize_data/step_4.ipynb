{
 "cells": [
  {
   "cell_type": "markdown",
   "metadata": {},
   "source": [
    "# Initialize Data for NBRA-MD"
   ]
  },
  {
   "cell_type": "code",
   "execution_count": 1,
   "metadata": {},
   "outputs": [],
   "source": [
    "!tar -xf res_ks_step2.tar.xz\n",
    "! tar -xf res_sd_step3.tar.xz"
   ]
  },
  {
   "cell_type": "code",
   "execution_count": 2,
   "metadata": {},
   "outputs": [],
   "source": [
    "import os\n",
    "import sys\n",
    "import time\n",
    "import math\n",
    "\n",
    "# Fisrt, we add the location of the library to test to the PYTHON path\n",
    "if sys.platform==\"cygwin\":\n",
    "    from cyglibra_core import *\n",
    "elif sys.platform==\"linux\" or sys.platform==\"linux2\":\n",
    "    from liblibra_core import *\n",
    "\n",
    "from libra_py import units\n",
    "from libra_py import influence_spectrum as infsp\n",
    "from libra_py import data_visualize\n",
    "from libra_py import data_conv\n",
    "import libra_py.workflows.nbra.step4 as step4\n",
    "import libra_py.workflows.nbra.decoherence_times as decoherence_times\n",
    "import libra_py.workflows.nbra.lz as lz\n",
    "import libra_py.workflows.nbra.qsh as qsh\n",
    "import numpy as np\n",
    "import matplotlib.pyplot as plt\n",
    "\n",
    "colors = {}\n",
    "colors.update({\"1\": '#000000'})  # Black \n",
    "colors.update({\"2\": '#000099'})  # Blue  \n",
    "colors.update({\"3\": '#006400'})  # Green \n",
    "colors.update({\"4\": '#990000'})  # Red   \n",
    "colors.update({\"5\": '#8B008B'})  # Purple\n",
    "colors.update({\"6\": '#FF8C00'})  # Orange\n",
    "colors.update({\"9\": '#4d4d4d'})  # Gray  \n",
    "color_index = [\"1\",\"2\",\"3\",\"4\",\"5\",\"6\",\"9\"]\n"
   ]
  },
  {
   "cell_type": "code",
   "execution_count": 3,
   "metadata": {},
   "outputs": [
    {
     "name": "stdout",
     "output_type": "stream",
     "text": [
      "Help on function get_Hvib2 in module libra_py.workflows.nbra.step4:\n",
      "\n",
      "get_Hvib2(params)\n",
      "    Reads several sets of vibronic Hamiltonian files \n",
      "    \n",
      "    Args:\n",
      "        params ( dictionary ): parameters controlling the function execution [Required!]\n",
      "    \n",
      "            Required parameter keys:\n",
      "    \n",
      "            * **params[\"data_set_paths\"]** ( list of strings ):\n",
      "                define the paths of the directories where the vibronic Hamiltonian files for\n",
      "                different data sets (e.g. independent MD trajectories) are located. \n",
      "            .. note::\n",
      "                In addition, requires parameters described in\n",
      "                :func:`libra_py.workflows.nbra.step4.getHvib`\n",
      "    \n",
      "    Returns:\n",
      "        list of lists of CMATRIX: Hvib: \n",
      "            the time series of Hvib matrices for several data sets, such that\n",
      "            Hvib[idata][time] is a CMATRIX for the data set indexed by `idata`\n",
      "            at time `time`\n",
      "    \n",
      "    Example:\n",
      "        The full name of the vibronic Hamiltonian files read by this module should be:\n",
      "    \n",
      "        params[\"data_set_paths\"][idata]+params[\"Hvib_re_prefix\"]+integer(time step)+params[\"Hvib_re_suffix\"] - for real part\n",
      "    \n",
      "        params[\"data_set_paths\"][idata]+params[\"Hvib_im_prefix\"]+integer(time step)+params[\"Hvib_im_suffix\"] - for imaginary part\n",
      "    \n",
      "        Say, the directory \"/home/alexeyak/test/step3/res0\" contains files:\n",
      "        Hvib_0_re, Hvib_1_re, .... ,    Hvib_999_re\n",
      "        Hvib_0_im, Hvib_1_im, .... ,    Hvib_999_im\n",
      "    \n",
      "        Then set:\n",
      "    \n",
      "        >>> params[\"data_set_paths\"] = [\"/home/alexeyak/test/step3/res0/\"]\n",
      "        >>> params[\"Hvib_re_prefix\"] = \"Hvib_\"\n",
      "        >>> params[\"Hvib_re_suffix\"] = \"_re\"\n",
      "        >>> params[\"Hvib_im_prefix\"] = \"Hvib_\"\n",
      "        >>> params[\"Hvib_im_suffix\"] = \"_im\"\n",
      "\n"
     ]
    }
   ],
   "source": [
    "help(step4.get_Hvib2)"
   ]
  },
  {
   "cell_type": "code",
   "execution_count": 5,
   "metadata": {},
   "outputs": [
    {
     "name": "stdout",
     "output_type": "stream",
     "text": [
      "\n",
      "Gathering data from MD \n",
      "Considering system Ir-C3H4N3 Unit Cell - Kohn-Sham basis\n",
      "Length of hvib is:  99\n"
     ]
    }
   ],
   "source": [
    "print (\"\\nGathering data from MD \")\n",
    "print (\"Considering system\", \"Ir-C3H4N3 Unit Cell - Kohn-Sham basis\")\n",
    "\n",
    "absolute_path = os.getcwd()\n",
    "params = {}\n",
    "params[\"data_set_paths\"] = []\n",
    "params[\"data_set_paths\"].append(absolute_path+\"/res_ks_step2/\")\n",
    "\n",
    "params[\"Hvib_re_prefix\"] = \"hvib_dia_\"; params[\"Hvib_re_suffix\"] = \"_re\"\n",
    "params[\"Hvib_im_prefix\"] = \"hvib_dia_\"; params[\"Hvib_im_suffix\"] = \"_im\"\n",
    "params[\"nfiles\"]         = 99\n",
    "params[\"init_times\"]     = [0]\n",
    "\n",
    "params[\"nstates\"]        = 62 # total number of electronic states\n",
    "params[\"active_space\"]   = list( range(params[\"nstates\"]) ) # indexing is from 0!\n",
    "\n",
    "# Include HOMO and up to the last electronic state\n",
    "hvib = step4.get_Hvib2(params)\n",
    "print (\"Length of hvib is: \", len(hvib[0]))"
   ]
  },
  {
   "cell_type": "code",
   "execution_count": 6,
   "metadata": {},
   "outputs": [
    {
     "name": "stdout",
     "output_type": "stream",
     "text": [
      "\n",
      " Test, for energies, Ha \n",
      "hvib[0][0].get(0,0) =  (-0.18040869+0j)\n",
      "hvib[0][0].get(1,1) =  (-0.19099023+0j)\n",
      "\n",
      " Test, for nacs, Ha \n",
      "hvib[0][0].get(0,1) =  2.0368277e-05j\n",
      "hvib[0][0].get(0,2) =  6.0238587e-05j\n"
     ]
    }
   ],
   "source": [
    "#Print the matrix elements: 0,0 1,1  0,1 0,2 . \n",
    "# The matrix elemnts are extracted with the .get() function\n",
    "\n",
    "print ( \"\\n Test, for energies, Ha \")\n",
    "print ( \"hvib[0][0].get(0,0) = \",  hvib[0][0].get(1,1) )\n",
    "print ( \"hvib[0][0].get(1,1) = \",  hvib[0][0].get(0,0) )\n",
    "\n",
    "print ( \"\\n Test, for nacs, Ha \")\n",
    "print ( \"hvib[0][0].get(0,1) = \",  hvib[0][0].get(0,1) )\n",
    "print ( \"hvib[0][0].get(0,2) = \",  hvib[0][0].get(0,2) )\n"
   ]
  },
  {
   "cell_type": "code",
   "execution_count": 7,
   "metadata": {},
   "outputs": [
    {
     "name": "stdout",
     "output_type": "stream",
     "text": [
      "Help on function energy_gaps_ave in module libra_py.workflows.nbra.decoherence_times:\n",
      "\n",
      "energy_gaps_ave(Hvib, itimes, nsteps)\n",
      "    Pre-compute the energy gaps along the trajectory \n",
      "    \n",
      "    Args:\n",
      "        Hvib ( list of lists of CMATRIX objects ):\n",
      "            Vibronic Hamiltonians along the trajectory for different data sets (adiabatic MDs),\n",
      "            and potential different sections of the time-range\n",
      "            where Hvib[idata][istep] is a CMATRIX object that represents a vibronic Hamiltonian\n",
      "            from the data set ```idata``` at the time step ```istep```. \n",
      "    \n",
      "        itimes ( list if ints ): initial times for averaging. The number ```itimes[idata]``` tells \n",
      "            which datapoint (timestep) of the time-series Hvib[idata] consider the beginning of \n",
      "            the range that will be used to compute gap fluctuations\n",
      "    \n",
      "        nsteps ( int ): the length of the time-steps to consider in the calculations for each data set\n",
      "    \n",
      "    Returns:\n",
      "        ( list of MATRIX(nstates, nstates) ): dE, where:\n",
      "            dE[t].get(i,j) is the absolute value of energy gap between states i and j at time t, but also averaged \n",
      "            over several data sets:      < |E_i(t) - E_j(t)| >\n",
      "\n"
     ]
    }
   ],
   "source": [
    "help(decoherence_times.energy_gaps_ave)"
   ]
  },
  {
   "cell_type": "markdown",
   "metadata": {},
   "source": [
    "<a name=\"decoherence_times_ave-1\"></a>\n",
    "Likewise, to compute the dephasing times, using the information on energy gap fluctuations, we use the function `decoherence_times.decoherence_times_ave`"
   ]
  },
  {
   "cell_type": "code",
   "execution_count": 8,
   "metadata": {},
   "outputs": [
    {
     "name": "stdout",
     "output_type": "stream",
     "text": [
      "Help on function decoherence_times_ave in module libra_py.workflows.nbra.decoherence_times:\n",
      "\n",
      "decoherence_times_ave(Hvib, itimes, nsteps, verbosity=0)\n",
      "    Compute the matrix of decoherence times from the time-series data \n",
      "    that consists of vereral data sets\n",
      "    \n",
      "    Ref: Akimov, A. V; Prezhdo O. V. J. Phys. Chem. Lett. 2013, 4, 3857  \n",
      "    \n",
      "    \n",
      "    Args:\n",
      "        Hvib ( list of lists of CMATRIX objects ):\n",
      "            Vibronic Hamiltonians along the trajectory for different data sets (adiabatic MDs),\n",
      "            and potential different sections of the time-range\n",
      "            where Hvib[idata][istep] is a CMATRIX object that represents a vibronic Hamiltonian\n",
      "            from the data set ```idata``` at the time step ```istep```. \n",
      "    \n",
      "        itimes ( list if ints ): initial times for averaging. The number ```itimes[idata]``` tells \n",
      "            which datapoint (timestep) of the time-series Hvib[idata] consider the beginning of \n",
      "            the range that will be used to compute gap fluctuations\n",
      "    \n",
      "        nsteps ( int ): the length of the time-steps to consider in the calculations for each data set\n",
      "    \n",
      "    Returns:\n",
      "        tuple:  ( decoh_times, decoh_rates ), where\n",
      "    \n",
      "            * decoh_times ( MATRIX(N,N) ): the matrix of decoherence times, diagonal elements are\n",
      "                set to very large number which corresponds to no decoherence of a state with itself.\n",
      "                This value is computed based on gaps averaged over several data sets. [ units: a.u. ]\n",
      "    \n",
      "            * decoh_rates ( MATRIX(N,N) ): the matrix of decoherence rates, diagonal elements are\n",
      "                set to zero which corresponds to no decoherence of a state with itself, the off-diagonal\n",
      "                elements are equal to inverse of the off-diagonal matrix elements of ```decoh_times```.\n",
      "                This value is computed based on gaps averaged over several data sets. [ units: a.u.^-1 ]\n",
      "\n"
     ]
    }
   ],
   "source": [
    "help(decoherence_times.decoherence_times_ave)"
   ]
  },
  {
   "cell_type": "code",
   "execution_count": 54,
   "metadata": {},
   "outputs": [],
   "source": [
    "params[\"init_times\"] = [0]\n",
    "params[\"nsteps\"] = 99"
   ]
  },
  {
   "cell_type": "code",
   "execution_count": 55,
   "metadata": {},
   "outputs": [
    {
     "name": "stdout",
     "output_type": "stream",
     "text": [
      "Finished gather data for MD time 99 steps.\n",
      "Dephasing time between Kohn-Sham orbitals 0 and 1 is: 10.964618134365915 fs\n"
     ]
    }
   ],
   "source": [
    "# Compute energy gaps and decoherence times over part of the trajectory we want. Using the init_times parameter\n",
    "tau, rates = decoherence_times.decoherence_times_ave(hvib, [params[\"init_times\"][0]], params[\"nsteps\"], 0)\n",
    "dE         = decoherence_times.energy_gaps_ave(      hvib, [params[\"init_times\"][0]], params[\"nsteps\"])\n",
    "avg_deco   = tau * units.au2fs\n",
    "print (\"Finished gather data for MD time\", params[\"nsteps\"], \"steps.\")\n",
    "print (\"Dephasing time between Kohn-Sham orbitals 0 and 1 is:\", tau.get(0,1) * units.au2fs, \"fs\")"
   ]
  },
  {
   "cell_type": "code",
   "execution_count": 56,
   "metadata": {},
   "outputs": [
    {
     "data": {
      "image/png": "[encoded data removed]",
      "text/plain": [
       "<Figure size 1926x642 with 2 Axes>"
      ]
     },
     "metadata": {
      "needs_background": "light"
     },
     "output_type": "display_data"
    }
   ],
   "source": [
    "tau_kohn_sham = data_conv.MATRIX2nparray( tau ) * units.au2fs\n",
    "for i in range( len(tau_kohn_sham) ):\n",
    "    tau_kohn_sham[i][i] = 0.0\n",
    "title_kohn_sham = \"Kohn-Sham orbitals - dephasing times\"\n",
    "data = [tau_kohn_sham]\n",
    "subplot_titles = [title_kohn_sham ]\n",
    "data_visualize.plot_map_nparray( plt, data, fig_width=6.42, fig_height=2.14, titles=subplot_titles, \\\n",
    "                                 title_size=8, num_subplots=1, colormap='hot', \\\n",
    "                                 interpolation_scheme='nearest', colorbar_label='fs' )"
   ]
  },
  {
   "cell_type": "code",
   "execution_count": 57,
   "metadata": {},
   "outputs": [
    {
     "name": "stdout",
     "output_type": "stream",
     "text": [
      "\n",
      "Gathering data from MD \n",
      "Considering system Ir-C3H4N3 Unit Cell- Slater determinant basis\n",
      "Length of hvib is:  99\n"
     ]
    }
   ],
   "source": [
    "print(\"\\nGathering data from MD \")\n",
    "print(\"Considering system\", \"Ir-C3H4N3 Unit Cell- Slater determinant basis\")\n",
    "\n",
    "absolute_path = os.getcwd()\n",
    "params = {}\n",
    "params[\"data_set_paths\"] = []\n",
    "params[\"data_set_paths\"].append(absolute_path+\"/res_sd_step3/\")\n",
    "\n",
    "params[\"Hvib_re_prefix\"] = \"Hvib_sorted_\"; params[\"Hvib_re_suffix\"] = \"_re\"\n",
    "params[\"Hvib_im_prefix\"] = \"Hvib_sorted_\"; params[\"Hvib_im_suffix\"] = \"_im\"\n",
    "params[\"nfiles\"]         = 99\n",
    "params[\"init_times\"]     = [0]\n",
    "\n",
    "params[\"nstates\"]        = 44 # total number of electronic states\n",
    "params[\"active_space\"]   = list( range(params[\"nstates\"]) ) # indexing is from 0!\n",
    "\n",
    "# Include HOMO and up to the last electronic state\n",
    "hvib_sd = step4.get_Hvib2(params)\n",
    "print (\"Length of hvib is: \", len(hvib[0]))"
   ]
  },
  {
   "cell_type": "code",
   "execution_count": 58,
   "metadata": {},
   "outputs": [
    {
     "name": "stdout",
     "output_type": "stream",
     "text": [
      "\n",
      " Test, for energies, Ha \n",
      "hvib_sd[0][0].get(0,0) =  3.4194721e-07j\n",
      "hvib_sd[0][0].get(1,1) =  (-0.6010999+0j)\n",
      "\n",
      " Test, for nacs, Ha \n",
      "hvib_sd[0][0].get(0,1) =  -0.00016008544j\n",
      "hvib_sd[0][0].get(0,2) =  2.1628642e-06j\n"
     ]
    }
   ],
   "source": [
    "#Print the matrix elements: 0,0 1,1  0,1 0,2 . \n",
    "# The matrix elemnts are extracted with the .get() feature\n",
    "\n",
    "print( \"\\n Test, for energies, Ha \")\n",
    "print( \"hvib_sd[0][0].get(0,0) = \",  hvib_sd[0][0].get(1,1) )\n",
    "print( \"hvib_sd[0][0].get(1,1) = \",  hvib_sd[0][0].get(0,0) )\n",
    "\n",
    "print( \"\\n Test, for nacs, Ha \")\n",
    "print( \"hvib_sd[0][0].get(0,1) = \",  hvib_sd[0][0].get(0,1) )\n",
    "print( \"hvib_sd[0][0].get(0,2) = \",  hvib_sd[0][0].get(0,2) )\n"
   ]
  },
  {
   "cell_type": "markdown",
   "metadata": {},
   "source": [
    "We can also see them in the units of eV. Be aware that for the energies one should be concerned the energy gaps, and not nesscarily the energies themsevles. "
   ]
  },
  {
   "cell_type": "code",
   "execution_count": 59,
   "metadata": {},
   "outputs": [
    {
     "name": "stdout",
     "output_type": "stream",
     "text": [
      "\n",
      " Test, for energies, eV \n",
      "hvib_sd[0][0].get(0,0) =  9.30472553131e-06j\n",
      "hvib_sd[0][0].get(1,1) =  (-16.3565293789+0j)\n",
      "\n",
      " Test, for nacs, eV \n",
      "hvib_sd[0][0].get(0,1) =  -0.00435608490784j\n",
      "hvib_sd[0][0].get(0,2) =  5.885369774619999e-05j\n"
     ]
    }
   ],
   "source": [
    "#Print the matrix elements: 0,0 1,1  0,1 0,2 . \n",
    "# The matrix elemnts are extracted with the .get() feature\n",
    "\n",
    "print( \"\\n Test, for energies, eV \")\n",
    "print( \"hvib_sd[0][0].get(0,0) = \",  hvib_sd[0][0].get(1,1) * units.au2ev )\n",
    "print( \"hvib_sd[0][0].get(1,1) = \",  hvib_sd[0][0].get(0,0) * units.au2ev )\n",
    "\n",
    "print( \"\\n Test, for nacs, eV \")\n",
    "print( \"hvib_sd[0][0].get(0,1) = \",  hvib_sd[0][0].get(0,1) * units.au2ev )\n",
    "print( \"hvib_sd[0][0].get(0,2) = \",  hvib_sd[0][0].get(0,2) * units.au2ev )"
   ]
  },
  {
   "cell_type": "code",
   "execution_count": 62,
   "metadata": {},
   "outputs": [
    {
     "name": "stdout",
     "output_type": "stream",
     "text": [
      "Finished gather data for MD time 99 steps.\n",
      "Dephasing time between states 0 and 1 is  3.3522142355663687\n"
     ]
    }
   ],
   "source": [
    "params[\"init_times\"] = [0]\n",
    "params[\"nsteps\"] = 99\n",
    "# Compute energy gaps and decoherence times over part of the trajectory we want\n",
    "tau_sd, rates_sd = decoherence_times.decoherence_times_ave(hvib_sd, [params[\"init_times\"][0]], params[\"nsteps\"], 0)\n",
    "dE_sd = decoherence_times.energy_gaps_ave(hvib_sd, [params[\"init_times\"][0]], params[\"nsteps\"])\n",
    "avg_deco_sd = tau_sd * units.au2fs\n",
    "print(\"Finished gather data for MD time\", params[\"nsteps\"], \"steps.\")\n",
    "print(\"Dephasing time between states 0 and 1 is \", tau_sd.get(0,1) * units.au2fs)"
   ]
  }
 ],
 "metadata": {
  "kernelspec": {
   "display_name": "Python 3.6 (libra-latest)",
   "language": "python",
   "name": "libra-plus"
  },
  "language_info": {
   "codemirror_mode": {
    "name": "ipython",
    "version": 3
   },
   "file_extension": ".py",
   "mimetype": "text/x-python",
   "name": "python",
   "nbconvert_exporter": "python",
   "pygments_lexer": "ipython3",
   "version": "3.6.13"
  }
 },
 "nbformat": 4,
 "nbformat_minor": 2
}
