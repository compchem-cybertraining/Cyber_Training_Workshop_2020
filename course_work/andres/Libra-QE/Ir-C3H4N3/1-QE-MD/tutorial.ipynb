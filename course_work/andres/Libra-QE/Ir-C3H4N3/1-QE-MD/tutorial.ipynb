{
 "cells": [
  {
   "cell_type": "markdown",
   "metadata": {},
   "source": [
    "# Molecular Dynamics Calculations with Quantum Espresso"
   ]
  },
  {
   "cell_type": "code",
   "execution_count": 1,
   "metadata": {},
   "outputs": [
    {
     "name": "stdout",
     "output_type": "stream",
     "text": [
      "The Intel compilers are in your path. This is adequate for compiling and\n",
      "running most codes. Source\n",
      "/util/academic/intel/17.0/compilers_and_libraries_2017/linux/bin/compilervars.sh\n",
      "for more features. \n",
      " Intel-MPI is in your path. This is adequate for compiling and running most\n",
      "codes. Source the\n",
      "/util/academic/intel/17.0/compilers_and_libraries_2017/linux/mpi/intel64/bin/mpivars.sh\n",
      "file for more features. \n",
      " The MKL Libraries are in your library path. This is adequate for compiling and\n",
      "running most codes. Source $MKL/bin/mklvars.sh\" for more features. \n"
     ]
    }
   ],
   "source": [
    "!module load espresso/6.2.1"
   ]
  },
  {
   "cell_type": "code",
   "execution_count": 2,
   "metadata": {},
   "outputs": [],
   "source": [
    "QE_input_file = \\\n",
    "\"\"\"\n",
    "&CONTROL\n",
    "  calculation   = 'md',\n",
    "  nstep         = 100,\n",
    "  dt            = 20.67055,\n",
    "  pseudo_dir    = '/util/academic/espresso/6.2.1/pseudopotentials/upf_files',\n",
    "  outdir        = './',\n",
    "  prefix        = 'x0',\n",
    "  disk_io       = 'low',\n",
    "/\n",
    "\n",
    "&SYSTEM\n",
    "  ibrav       = 0,\n",
    "  nat         = 25,\n",
    "  ntyp        = 4,\n",
    "  nspin       = 1,\n",
    "  ecutwfc     = 30,\n",
    "  ecutrho     = 300,\n",
    "  occupations = 'smearing',\n",
    "  smearing    = 'gaussian',\n",
    "  degauss     = 0.01,\n",
    "  nosym       = true,\n",
    "/\n",
    "\n",
    "&ELECTRONS\n",
    "  electron_maxstep = 300,\n",
    "  conv_thr         = 1.D-4,\n",
    "  mixing_beta      = 0.30,\n",
    "/\n",
    "\n",
    "&IONS\n",
    "  ion_dynamics      = 'verlet',\n",
    "  ion_temperature   = 'andersen',\n",
    "  tempw             = 300,\n",
    "  nraise            = 10,\n",
    "  pot_extrapolation = 'second-order',\n",
    "  wfc_extrapolation = 'second-order',\n",
    "/\n",
    "\n",
    "ATOMIC_SPECIES\n",
    "C  12.010     C.pbe-n-rrkjus_psl.0.1.UPF \n",
    "H  1.007      H.pbe-rrkjus_psl.0.1.UPF \n",
    "Ir 192.217    Ir.pbe-n-rrkjus_psl.0.2.3.UPF\n",
    "N  14.006     N.pbe-n-rrkjus_psl.0.1.UPF\n",
    "\n",
    "\n",
    "K_POINTS gamma\n",
    "\n",
    "CELL_PARAMETERS  angstrom\n",
    "        7.0652699470        0.0000000000         0.0000000000\n",
    "        0.0000000000        7.0652699470         0.0000000000\n",
    "        0.0000000000        0.0000000000         7.0652699470 \n",
    "\n",
    "ATOMIC_POSITIONS angstrom\n",
    "Ir         0.00000        0.00000       -0.00703\n",
    "N          0.95257       -1.52772       -1.12847\n",
    "N         -1.79933       -0.06109       -1.12847\n",
    "N          0.84676        1.58881       -1.12847\n",
    "C         -0.48144        1.59720        1.07326\n",
    "C          1.62394       -0.38166        1.07326\n",
    "C          2.05923       -1.95393       -0.60615\n",
    "C          2.46661       -1.35421        0.61614\n",
    "C         -1.14250       -1.21554        1.07326\n",
    "C          0.66254        2.76031       -0.60615\n",
    "C         -0.06053        2.81325        0.61614\n",
    "C         -2.72177       -0.80638       -0.60615\n",
    "C         -2.40609       -1.45904        0.61614\n",
    "H          1.87839        0.10760        2.01446\n",
    "H          3.37338       -1.67269        1.11880\n",
    "H          2.63818       -2.73987       -1.09173\n",
    "H          1.05370        3.65467       -1.09173\n",
    "H         -0.23810        3.75778        1.11880\n",
    "H         -1.03238        1.57293        2.01446\n",
    "H         -3.13528       -2.08509        1.11880\n",
    "H         -0.84601       -1.68053        2.01446\n",
    "H         -3.69189       -0.91480       -1.09173\n",
    "H          0.66735       -1.96559       -1.99398\n",
    "H          1.36857        1.56074       -1.99398\n",
    "H         -2.03592        0.40485       -1.99398\n",
    "\"\"\""
   ]
  },
  {
   "cell_type": "code",
   "execution_count": 3,
   "metadata": {},
   "outputs": [],
   "source": [
    "#print (QE_input_file)\n",
    "f = open(\"x0.md.in\",\"w\")\n",
    "f.write(QE_input_file)\n",
    "f.close()"
   ]
  },
  {
   "cell_type": "code",
   "execution_count": 4,
   "metadata": {},
   "outputs": [],
   "source": [
    "!/util/academic/espresso/6.2.1/bin/pw.x < x0.md.in > x0.md.out"
   ]
  },
  {
   "cell_type": "code",
   "execution_count": 5,
   "metadata": {},
   "outputs": [
    {
     "name": "stdout",
     "output_type": "stream",
     "text": [
      "rm: cannot remove ‘x0.w*’: No such file or directory\n",
      "rm: cannot remove ‘sl*’: No such file or directory\n",
      "rm: cannot remove ‘x0.u*’: No such file or directory\n",
      "rm: cannot remove ‘CR*’: No such file or directory\n"
     ]
    }
   ],
   "source": [
    "!sh clean.sh"
   ]
  }
 ],
 "metadata": {
  "kernelspec": {
   "display_name": "Python 3.6 (libra-latest)",
   "language": "python",
   "name": "libra-plus"
  },
  "language_info": {
   "codemirror_mode": {
    "name": "ipython",
    "version": 3
   },
   "file_extension": ".py",
   "mimetype": "text/x-python",
   "name": "python",
   "nbconvert_exporter": "python",
   "pygments_lexer": "ipython3",
   "version": "3.6.13"
  }
 },
 "nbformat": 4,
 "nbformat_minor": 2
}
