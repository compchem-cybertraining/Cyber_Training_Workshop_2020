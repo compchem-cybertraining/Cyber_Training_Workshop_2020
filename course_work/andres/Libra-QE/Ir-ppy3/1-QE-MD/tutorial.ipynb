{
 "cells": [
  {
   "cell_type": "markdown",
   "metadata": {},
   "source": [
    "# Molecular Dynamics Calculations with Quantum Espresso\n",
    "\n"
   ]
  },
  {
   "cell_type": "code",
   "execution_count": 1,
   "metadata": {},
   "outputs": [
    {
     "name": "stdout",
     "output_type": "stream",
     "text": [
      "The Intel compilers are in your path. This is adequate for compiling and\r\n",
      "running most codes. Source\r\n",
      "/util/academic/intel/17.0/compilers_and_libraries_2017/linux/bin/compilervars.sh\r\n",
      "for more features. \r\n",
      " Intel-MPI is in your path. This is adequate for compiling and running most\r\n",
      "codes. Source the\r\n",
      "/util/academic/intel/17.0/compilers_and_libraries_2017/linux/mpi/intel64/bin/mpivars.sh\r\n",
      "file for more features. \r\n",
      " The MKL Libraries are in your library path. This is adequate for compiling and\r\n",
      "running most codes. Source $MKL/bin/mklvars.sh\" for more features. \r\n"
     ]
    }
   ],
   "source": [
    "!module load espresso/6.2.1"
   ]
  },
  {
   "cell_type": "code",
   "execution_count": 2,
   "metadata": {},
   "outputs": [],
   "source": [
    "QE_input_file = \\\n",
    "\"\"\"\n",
    "&CONTROL\n",
    "  calculation   = 'md',\n",
    "  nstep         = 100,\n",
    "  dt            = 20.67055,\n",
    "  pseudo_dir    = '/util/academic/espresso/6.2.1/pseudopotentials/upf_files',\n",
    "  outdir        = './',\n",
    "  prefix        = 'x0',\n",
    "  disk_io       = 'low',\n",
    "/\n",
    "\n",
    "&SYSTEM\n",
    "  ibrav       = 0,\n",
    "  nat         = 61,\n",
    "  ntyp        = 4,\n",
    "  nspin       = 1,\n",
    "  ecutwfc     = 30,\n",
    "  ecutrho     = 300,\n",
    "  occupations = 'smearing',\n",
    "  smearing    = 'gaussian',\n",
    "  degauss     = 0.01,\n",
    "  nosym       = true,\n",
    "/\n",
    "\n",
    "&ELECTRONS\n",
    "  electron_maxstep = 300,\n",
    "  conv_thr         = 1.D-4,\n",
    "  mixing_beta      = 0.30,\n",
    "/\n",
    "\n",
    "&IONS\n",
    "  ion_dynamics      = 'verlet',\n",
    "  ion_temperature   = 'andersen',\n",
    "  tempw             = 300,\n",
    "  nraise            = 10,\n",
    "  pot_extrapolation = 'second-order',\n",
    "  wfc_extrapolation = 'second-order',\n",
    "/\n",
    "\n",
    "ATOMIC_SPECIES\n",
    "C  12.010     C.pbe-n-rrkjus_psl.0.1.UPF \n",
    "H  1.007      H.pbe-rrkjus_psl.0.1.UPF \n",
    "Ir 192.217    Ir.pbe-n-rrkjus_psl.0.2.3.UPF\n",
    "N  14.006     N.pbe-n-rrkjus_psl.0.1.UPF\n",
    "\n",
    "\n",
    "K_POINTS gamma\n",
    "\n",
    "CELL_PARAMETERS  angstrom\n",
    "       10.394909858703       0.0000000000          0.0000000000\n",
    "        0.0000000000        10.394909858703        0.0000000000\n",
    "        0.0000000000         0.0000000000         10.394909858703\n",
    "\n",
    "ATOMIC_POSITIONS angstrom\n",
    "Ir         0.00000        0.00000       -0.00413 \n",
    "N          0.87209       -1.62649       -1.09124 \n",
    "N         -1.84462        0.05799       -1.09124 \n",
    "C         -0.59580        1.61665        1.03779 \n",
    "C          1.69796       -0.29235        1.03779 \n",
    "C          2.05805       -2.05607       -0.60239 \n",
    "C          2.53979       -1.32653        0.56161 \n",
    "N          0.97253        1.56850       -1.09124 \n",
    "C         -1.10216       -1.32430        1.03779 \n",
    "C          0.75158        2.81036       -0.60239 \n",
    "C         -0.12109        2.86279        0.56161 \n",
    "C         -2.80963       -0.75429       -0.60239 \n",
    "C         -2.41871       -1.53626        0.56161 \n",
    "C          2.14660        0.40505        2.16632 \n",
    "C          3.34657        0.09837        2.78651 \n",
    "C          4.15815       -0.92316        2.30115 \n",
    "C          3.75083       -1.63212        1.18984 \n",
    "C          2.71319       -3.12773       -1.21378 \n",
    "C          2.15370       -3.74895       -2.30956 \n",
    "C          0.93234       -3.29720       -2.79244 \n",
    "C          0.33121       -2.23713       -2.14715 \n",
    "C          1.77180        1.40540       -2.14715 \n",
    "C          2.38929        2.45603       -2.79244 \n",
    "C          2.16983        3.73964       -2.30956 \n",
    "C          1.35210        3.91356       -1.21378 \n",
    "C         -0.46196        4.06438        1.18984 \n",
    "C         -1.27959        4.06265        2.30115 \n",
    "C         -1.75848        2.84903        2.78651 \n",
    "C         -1.42409        1.65649        2.16632 \n",
    "C         -3.28888       -2.43225        1.18984 \n",
    "C         -2.87856       -3.13949        2.30115 \n",
    "C         -1.58809       -2.94740        2.78651 \n",
    "C         -0.72252       -2.06154        2.16632 \n",
    "C         -2.10301        0.83173       -2.14715 \n",
    "C         -4.06529       -0.78583       -1.21378 \n",
    "C         -4.32354        0.00931       -2.30956 \n",
    "C         -3.32163        0.84117       -2.79244 \n",
    "H          1.53488        1.20257        2.57233 \n",
    "H          3.65651        0.66080        3.66181 \n",
    "H          5.09618       -1.16121        2.78894 \n",
    "H          4.38255       -2.42935        0.81291 \n",
    "H          3.65924       -3.47162       -0.81800 \n",
    "H          2.66048       -4.58242       -2.78245 \n",
    "H          0.44913       -3.75768       -3.64421 \n",
    "H         -0.62611       -1.85099       -2.47662 \n",
    "H          1.91606        0.38327       -2.47662 \n",
    "H          3.02968        2.26780       -3.64421 \n",
    "H          2.63826        4.59525       -2.78245 \n",
    "H          1.17689        4.90481       -0.81800 \n",
    "H         -0.08739        5.01008        0.81291 \n",
    "H         -1.54245        4.99402        2.78894 \n",
    "H         -2.40052        2.83623        3.66181 \n",
    "H         -1.80889        0.72796        2.57233 \n",
    "H         -4.29516       -2.58072        0.81291 \n",
    "H         -3.55372       -3.83281        2.78894 \n",
    "H         -1.25599       -3.49703        3.66181 \n",
    "H          0.27402       -1.93053        2.57233 \n",
    "H         -1.28995        1.46772       -2.47662 \n",
    "H         -4.83613       -1.43319       -0.81800 \n",
    "H         -5.29873       -0.01283       -2.78245 \n",
    "H         -3.47881        1.48988       -3.64421 \n",
    "\"\"\""
   ]
  },
  {
   "cell_type": "code",
   "execution_count": 3,
   "metadata": {},
   "outputs": [],
   "source": [
    "#print (QE_input_file)\n",
    "f = open(\"x0.md.in\",\"w\")\n",
    "f.write(QE_input_file)\n",
    "f.close()"
   ]
  },
  {
   "cell_type": "code",
   "execution_count": 4,
   "metadata": {},
   "outputs": [],
   "source": [
    "!/util/academic/espresso/6.2.1/bin/pw.x < x0.md.in > x0.md.out"
   ]
  },
  {
   "cell_type": "code",
   "execution_count": 5,
   "metadata": {},
   "outputs": [
    {
     "name": "stdout",
     "output_type": "stream",
     "text": [
      "rm: cannot remove ‘x0.w*’: No such file or directory\n",
      "rm: cannot remove ‘sl*’: No such file or directory\n",
      "rm: cannot remove ‘x0.u*’: No such file or directory\n",
      "rm: cannot remove ‘CR*’: No such file or directory\n"
     ]
    }
   ],
   "source": [
    "!sh clean.sh"
   ]
  }
 ],
 "metadata": {
  "kernelspec": {
   "display_name": "Python 3.6 (libra-latest)",
   "language": "python",
   "name": "libra-plus"
  },
  "language_info": {
   "codemirror_mode": {
    "name": "ipython",
    "version": 3
   },
   "file_extension": ".py",
   "mimetype": "text/x-python",
   "name": "python",
   "nbconvert_exporter": "python",
   "pygments_lexer": "ipython3",
   "version": "3.6.13"
  }
 },
 "nbformat": 4,
 "nbformat_minor": 2
}
