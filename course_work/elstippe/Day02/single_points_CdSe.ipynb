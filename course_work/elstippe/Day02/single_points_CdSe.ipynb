{
 "cells": [
  {
   "cell_type": "code",
   "execution_count": 1,
   "id": "6960c827",
   "metadata": {},
   "outputs": [],
   "source": [
    "import h5py"
   ]
  },
  {
   "cell_type": "code",
   "execution_count": 2,
   "id": "f0be8c8a",
   "metadata": {},
   "outputs": [],
   "source": [
    "f = h5py.File('Cd33Se33.hdf5','r')"
   ]
  },
  {
   "cell_type": "code",
   "execution_count": 3,
   "id": "2f970250",
   "metadata": {},
   "outputs": [
    {
     "data": {
      "text/plain": [
       "<KeysViewHDF5 ['coefficients', 'cp2k', 'eigenvalues', 'energy']>"
      ]
     },
     "execution_count": 3,
     "metadata": {},
     "output_type": "execute_result"
    }
   ],
   "source": [
    "f.keys()"
   ]
  },
  {
   "cell_type": "code",
   "execution_count": 31,
   "id": "ebe4565e",
   "metadata": {},
   "outputs": [],
   "source": [
    "e_ao = f['eigenvalues/point_0'][()]"
   ]
  },
  {
   "cell_type": "code",
   "execution_count": 32,
   "id": "21f9cee3",
   "metadata": {},
   "outputs": [
    {
     "data": {
      "text/plain": [
       "(100,)"
      ]
     },
     "execution_count": 32,
     "metadata": {},
     "output_type": "execute_result"
    }
   ],
   "source": [
    "e_ao.shape"
   ]
  },
  {
   "cell_type": "code",
   "execution_count": 33,
   "id": "45e4a26c",
   "metadata": {},
   "outputs": [
    {
     "data": {
      "text/plain": [
       "array([-0.22770081, -0.22715983, -0.22552112, -0.22497526, -0.22416833,\n",
       "       -0.22283356, -0.22153112, -0.22035252, -0.22000255, -0.21925876,\n",
       "       -0.21749571, -0.21653226, -0.21607362, -0.21547367, -0.21464244,\n",
       "       -0.21384193, -0.21274413, -0.21231511, -0.2112988 , -0.20921417,\n",
       "       -0.20846753, -0.20692252, -0.20630068, -0.20562111, -0.20425507,\n",
       "       -0.2035384 , -0.20329633, -0.20173015, -0.20120415, -0.20053172,\n",
       "       -0.19829223, -0.19773933, -0.19494212, -0.19439551, -0.19262435,\n",
       "       -0.19195728, -0.19120668, -0.19007233, -0.18899852, -0.18794799,\n",
       "       -0.18761426, -0.18672487, -0.1846017 , -0.18309881, -0.1825652 ,\n",
       "       -0.18168822, -0.18142116, -0.18035857, -0.17608641, -0.16975994,\n",
       "       -0.12780325, -0.11164436, -0.10713237, -0.09988476, -0.0949109 ,\n",
       "       -0.09342605, -0.09249806, -0.09049605, -0.08625761, -0.08620922,\n",
       "       -0.08510703, -0.07992463, -0.07831322, -0.07496925, -0.07181535,\n",
       "       -0.07034647, -0.07001486, -0.06438494, -0.06291567, -0.06027571,\n",
       "       -0.05948045, -0.05795537, -0.0559823 , -0.05451928, -0.05152361,\n",
       "       -0.04841235, -0.04723728, -0.04625869, -0.04465878, -0.04387157,\n",
       "       -0.04091064, -0.03931489, -0.03794649, -0.03390947, -0.0327577 ,\n",
       "       -0.03172484, -0.02864589, -0.02646779, -0.02257928, -0.02226835,\n",
       "       -0.01955642, -0.01766242, -0.01610555, -0.01207301, -0.01150953,\n",
       "       -0.0093065 , -0.00772929, -0.00562712, -0.00291498, -0.00215703],\n",
       "      dtype=float32)"
      ]
     },
     "execution_count": 33,
     "metadata": {},
     "output_type": "execute_result"
    }
   ],
   "source": [
    "e_ao"
   ]
  },
  {
   "cell_type": "markdown",
   "id": "711c3f40",
   "metadata": {},
   "source": [
    "## Part One: Calculating the HOMO-LUMO gap (in eV)"
   ]
  },
  {
   "cell_type": "markdown",
   "id": "fe15843d",
   "metadata": {},
   "source": [
    "We know in the original input that we calculated 50 occupied and 50 unoccupied orbitals, so we can take the `49` and `50` values in the above array (please note the array starts at value `0`), which will be the HOMO and LUMO values. We can then subtract to find the `HOMO - LUMO` gap."
   ]
  },
  {
   "cell_type": "code",
   "execution_count": 38,
   "id": "0cb4af42",
   "metadata": {},
   "outputs": [
    {
     "name": "stdout",
     "output_type": "stream",
     "text": [
      "This is the HOMO: -0.16975994\n",
      "This is the LUMO: -0.12780325\n"
     ]
    }
   ],
   "source": [
    "print(\"This is the HOMO: \" + str(e_ao[49]))\n",
    "print(\"This is the LUMO: \" + str(e_ao[50]))"
   ]
  },
  {
   "cell_type": "markdown",
   "id": "37cc98a8",
   "metadata": {},
   "source": [
    "We can also notice the large gap between the two values, which is indicative of the HOMO/LUMO gap. We can now subtract the two values:"
   ]
  },
  {
   "cell_type": "code",
   "execution_count": 39,
   "id": "5444059e",
   "metadata": {},
   "outputs": [
    {
     "name": "stdout",
     "output_type": "stream",
     "text": [
      "This is the HOMO - LUMO gap of the CdSe system: -0.041956693\n"
     ]
    }
   ],
   "source": [
    "print(\"This is the HOMO - LUMO gap of the CdSe system: \" + str(e_ao[49] - e_ao[50] ))"
   ]
  },
  {
   "cell_type": "markdown",
   "id": "9861d5da",
   "metadata": {},
   "source": [
    "## Part Two: Plotting the Energy of the Orbitals in the Active Space"
   ]
  },
  {
   "cell_type": "markdown",
   "id": "50ec4285",
   "metadata": {},
   "source": [
    "We are still using the data found in `e_ao = f['eigenvalues/point_0'][()]`. This time, we are plotting each energy as a point on a graph. For this, we will need to use `matplotlib.pyplot`, a python module. We access the library through importing it. Specifically, we will be making a horizontal bar graph."
   ]
  },
  {
   "cell_type": "code",
   "execution_count": 40,
   "id": "47038834",
   "metadata": {},
   "outputs": [],
   "source": [
    "import matplotlib.pyplot as plt"
   ]
  },
  {
   "cell_type": "code",
   "execution_count": 76,
   "id": "1c1fcbff",
   "metadata": {},
   "outputs": [
    {
     "data": {
      "image/png": "[encoded data removed]",
      "text/plain": [
       "<Figure size 432x288 with 1 Axes>"
      ]
     },
     "metadata": {
      "needs_background": "light"
     },
     "output_type": "display_data"
    }
   ],
   "source": [
    "plt.plot(range(50), HOMO)\n",
    "plt.plot(range(50, 100), LUMO)\n",
    "plt.legend([\"HOMO\", \"LUMO\"])\n",
    "plt.title(\"100 active states of CdSe\", size = \"xx-large\")\n",
    "plt.show()"
   ]
  },
  {
   "cell_type": "code",
   "execution_count": null,
   "id": "e82839b5",
   "metadata": {},
   "outputs": [],
   "source": []
  }
 ],
 "metadata": {
  "kernelspec": {
   "display_name": "Python 3.6 (qmflows)",
   "language": "python",
   "name": "qmflows"
  },
  "language_info": {
   "codemirror_mode": {
    "name": "ipython",
    "version": 3
   },
   "file_extension": ".py",
   "mimetype": "text/x-python",
   "name": "python",
   "nbconvert_exporter": "python",
   "pygments_lexer": "ipython3",
   "version": "3.7.10"
  }
 },
 "nbformat": 4,
 "nbformat_minor": 5
}
