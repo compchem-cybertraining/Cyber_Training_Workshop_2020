{
 "cells": [
  {
   "cell_type": "markdown",
   "id": "79839cba",
   "metadata": {},
   "source": [
    "# Absorption Spectrum of CdSe"
   ]
  },
  {
   "cell_type": "markdown",
   "id": "2907e2b6",
   "metadata": {},
   "source": [
    "## Part One: Amount of Single Excited States"
   ]
  },
  {
   "cell_type": "markdown",
   "id": "b76db001",
   "metadata": {},
   "source": [
    "Because the active area for this example included 50 occupied orbitals and 50 unoccupied orbitals, it would be expected there are 2500 single excited states for this system and the parameters selected ($50*50=2500$). We see in the `output_0_stda.txt` file that we do in fact have 2500 states listed."
   ]
  },
  {
   "cell_type": "markdown",
   "id": "413c4c7a",
   "metadata": {},
   "source": [
    "## Part Two: Energy of the First Excited State"
   ]
  },
  {
   "attachments": {
    "image.png": {
     "image/png": "[encoded data removed]"
    }
   },
   "cell_type": "markdown",
   "id": "6375c915",
   "metadata": {},
   "source": [
    "Below is the information provided from the `output_0_stda.txt` file for the first excited state:\n",
    "\n",
    "![image.png](attachment:image.png)"
   ]
  },
  {
   "cell_type": "markdown",
   "id": "634ac66c",
   "metadata": {},
   "source": [
    "We can calculate the HOMO - LUMO and compare it to the results found in the single-point example. For reference, the HOMO - LUMO from that section is: XX. Here, looking at the output we see that there are three different `energy` values. However, only the last two are relevant for this calculation. We observe that the `from` value corresponds to an energy of `-4.619` where the `to` value corresponds to `-3.478`. The `from` value is equivalent to the initial occupied orbital (HOMO) and the `to` value is equivalent to the initial virtual (or unoccupied) orbital (LUMO)."
   ]
  },
  {
   "cell_type": "code",
   "execution_count": 1,
   "id": "d50166f4",
   "metadata": {},
   "outputs": [
    {
     "name": "stdout",
     "output_type": "stream",
     "text": [
      "The HOMO - LUMO gap is: -1.1409999999999996\n"
     ]
    }
   ],
   "source": [
    "print(\"The HOMO - LUMO gap is: \" + str(-4.619 - (-3.478)))"
   ]
  },
  {
   "cell_type": "markdown",
   "id": "2007f258",
   "metadata": {},
   "source": [
    "This value is quite a deal greater in magnitude as compared to the single-point value that was calculated."
   ]
  },
  {
   "cell_type": "markdown",
   "id": "567c135d",
   "metadata": {},
   "source": [
    "## Part Three: Plotting the Absorption Spectrum"
   ]
  },
  {
   "cell_type": "markdown",
   "id": "104146bd",
   "metadata": {},
   "source": [
    "For this last part, we are told to use the `convolution.py` function, which I ended up struggling to run. "
   ]
  },
  {
   "cell_type": "code",
   "execution_count": 2,
   "id": "95e4025e",
   "metadata": {},
   "outputs": [
    {
     "ename": "ModuleNotFoundError",
     "evalue": "No module named 'nanoqm'",
     "output_type": "error",
     "traceback": [
      "\u001b[0;31m---------------------------------------------------------------------------\u001b[0m",
      "\u001b[0;31mModuleNotFoundError\u001b[0m                       Traceback (most recent call last)",
      "\u001b[0;32m<ipython-input-2-3979a905b35f>\u001b[0m in \u001b[0;36m<module>\u001b[0;34m\u001b[0m\n\u001b[1;32m     17\u001b[0m \u001b[0;32mimport\u001b[0m \u001b[0mnumpy\u001b[0m \u001b[0;32mas\u001b[0m \u001b[0mnp\u001b[0m\u001b[0;34m\u001b[0m\u001b[0;34m\u001b[0m\u001b[0m\n\u001b[1;32m     18\u001b[0m \u001b[0;34m\u001b[0m\u001b[0m\n\u001b[0;32m---> 19\u001b[0;31m \u001b[0;32mfrom\u001b[0m \u001b[0mnanoqm\u001b[0m\u001b[0;34m.\u001b[0m\u001b[0manalysis\u001b[0m \u001b[0;32mimport\u001b[0m \u001b[0mconvolute\u001b[0m\u001b[0;34m\u001b[0m\u001b[0;34m\u001b[0m\u001b[0m\n\u001b[0m\u001b[1;32m     20\u001b[0m \u001b[0;34m\u001b[0m\u001b[0m\n\u001b[1;32m     21\u001b[0m \u001b[0msigma\u001b[0m \u001b[0;34m=\u001b[0m \u001b[0;36m0.1\u001b[0m\u001b[0;34m\u001b[0m\u001b[0;34m\u001b[0m\u001b[0m\n",
      "\u001b[0;31mModuleNotFoundError\u001b[0m: No module named 'nanoqm'"
     ]
    }
   ],
   "source": [
    "#! /usr/bin/env python\n",
    "\"\"\" This script convolutes the calculated oscillator strengts for different snapshots in a MD trajectory and plot the average spectrum.\n",
    "Usage:\n",
    "convolution.py -sigma 0.05 -n 2 -nm True -write True\n",
    "Use the sigma flag to change the sigma parameter of the gaussian functions\n",
    "used in the convolution. If you use the n flag you imply that you want to plot\n",
    "only the spectrum of snapshot number n (starting from 0)instead of an average\n",
    "over all strucutures.\n",
    "Use the nm to obtain a plot in nm scale.\n",
    "You can choose to write the coordinates obtained from the convolution with the write flag.\n",
    "\"\"\"\n",
    "\n",
    "import argparse\n",
    "import glob\n",
    "\n",
    "import matplotlib.pyplot as plt\n",
    "import numpy as np\n",
    "\n",
    "from nanoqm.analysis import convolute\n",
    "\n",
    "sigma = 0.1\n",
    "n = 2\n",
    "\n",
    "\n",
    "def main(sigma, n, nm, write):\n",
    "    # Check output files\n",
    "    files = sorted(glob.glob('output_*.txt'))\n",
    "\n",
    "    if n is None:\n",
    "        # Define energy window for the plot\n",
    "        energy = np.loadtxt(files[0], usecols=1)\n",
    "        emax = energy[-1] + 0.5\n",
    "        emin = energy[0] - 0.5\n",
    "        x_grid = np.linspace(emin, emax, 800)\n",
    "        y_grid = np.empty([x_grid.size, 0])\n",
    "        for f in files:\n",
    "            # Read transition energies and oscillator strengths\n",
    "            data = np.loadtxt(f, usecols=(1, 2))\n",
    "            # Convolute each spectrum at a time\n",
    "            ys = convolute(data[:, 0], data[:, 1], x_grid, sigma)\n",
    "            # Stack the spectra in a matrix\n",
    "            y_grid = np.column_stack((y_grid, ys))\n",
    "        # Average them\n",
    "        y_grid = np.sum(y_grid, axis=1) / len(files)\n",
    "\n",
    "    else:\n",
    "        # Read transition energies and oscillator strengths\n",
    "        data = np.loadtxt(files[n], usecols=(1, 2))\n",
    "        # Define energy window for the plot\n",
    "        emax = data[-1, 0] + 0.5\n",
    "        emin = data[0, 0] - 0.5\n",
    "        x_grid = np.linspace(emin, emax, 800)\n",
    "        # Convolute\n",
    "        y_grid = convolute(data[:, 0], data[:, 1], x_grid, sigma)\n",
    "\n",
    "    # Convert in nm if request\n",
    "    if nm:\n",
    "        x_grid = 1240/x_grid\n",
    "\n",
    "    # plot\n",
    "    plt.plot(x_grid, y_grid)\n",
    "    if nm:\n",
    "        plt.xlabel('Wavelenght[nm]')\n",
    "    else:\n",
    "        plt.xlabel('Energy[eV]')\n",
    "    plt.ylabel('Oscillator strength')\n",
    "    plt.show()\n",
    "\n",
    "    # Write convoluted coordinates if request\n",
    "    if write:\n",
    "        output = np.empty((len(x_grid), 2))\n",
    "        output[:, 0] = x_grid\n",
    "        output[:, 1] = y_grid\n",
    "        fmt = '{:^10s}{:^10s}'\n",
    "        if nm:\n",
    "            header = fmt.format(\n",
    "                'nm', 'f')\n",
    "            output = output[::-1]\n",
    "        else:\n",
    "            header = fmt.format(\n",
    "                'eV', 'f')\n",
    "        np.savetxt('convolution.txt', output,\n",
    "                   fmt='%11.3f %10.5f', header=header)\n",
    "\n",
    "\n",
    "def read_cmd_line(parser):\n",
    "    \"\"\"\n",
    "    Parse Command line options.\n",
    "    \"\"\"\n",
    "    args = parser.parse_args()\n",
    "\n",
    "    attributes = ['sigma', 'n', 'nm', 'write']\n",
    "\n",
    "    return [getattr(args, p) for p in attributes]\n",
    "\n",
    "\n",
    "# ============<>===============\n",
    "if __name__ == \"__main__\":\n",
    "\n",
    "    msg = \"\"\"convolution.py -sigma <sigma parameter of the gaussian functions> -n <plot only the spectrum of structure n>\n",
    "    -nm <plot in nm> -write <write the coordinates from the convolution>\"\"\"\n",
    "\n",
    "    parser = argparse.ArgumentParser(description=msg)\n",
    "    parser.add_argument('-sigma', default=0.1, type=float,\n",
    "                        help='Sigma parameter of the gaussian functions')\n",
    "    parser.add_argument('-n', default=None, type=int,\n",
    "                        help='Plot only the spectrum of the strucure number n')\n",
    "    parser.add_argument('-nm', default=False, type=bool,\n",
    "                        help='Convert the x axis in nm')\n",
    "    parser.add_argument('-write', default=False, type=bool,\n",
    "                        help='Write the coordinates from the convolution')\n",
    "\n",
    "    main(*read_cmd_line(parser))\n"
   ]
  },
  {
   "cell_type": "code",
   "execution_count": null,
   "id": "a7b0df88",
   "metadata": {},
   "outputs": [],
   "source": []
  }
 ],
 "metadata": {
  "kernelspec": {
   "display_name": "Python 3",
   "language": "python",
   "name": "python3"
  },
  "language_info": {
   "codemirror_mode": {
    "name": "ipython",
    "version": 3
   },
   "file_extension": ".py",
   "mimetype": "text/x-python",
   "name": "python",
   "nbconvert_exporter": "python",
   "pygments_lexer": "ipython3",
   "version": "3.6.13"
  }
 },
 "nbformat": 4,
 "nbformat_minor": 5
}
