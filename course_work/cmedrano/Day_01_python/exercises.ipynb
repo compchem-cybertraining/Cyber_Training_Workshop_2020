{
 "cells": [
  {
   "cell_type": "code",
   "execution_count": 15,
   "metadata": {},
   "outputs": [],
   "source": [
    "import numpy as np"
   ]
  },
  {
   "cell_type": "markdown",
   "metadata": {},
   "source": [
    "### Function that computes $f(x) = Ax^n.$ <a name=\"Function\"></a> \n",
    "### using dictionaries"
   ]
  },
  {
   "cell_type": "code",
   "execution_count": 6,
   "metadata": {},
   "outputs": [],
   "source": [
    "def func_exp(params):\n",
    "    \"\"\"\n",
    "    It needs: a dictionary containing the coefficient, A, the value of x, and the integer exponent n\n",
    "    It returns: the value of the function Ax^n\n",
    "    \"\"\"\n",
    "    A = params[\"A\"]\n",
    "    x = params[\"x\"]\n",
    "    n = params[\"n\"]\n",
    "    if (n == 0):\n",
    "        return A\n",
    "    elif (n > 0):\n",
    "        total = 1.0\n",
    "        count = 0\n",
    "        while (count < n):\n",
    "            total *= x\n",
    "            count += 1\n",
    "        return A * total\n",
    "    else:\n",
    "        total = 1.0\n",
    "        count = 0\n",
    "        while (count < np.abs(n)):\n",
    "            total /= x\n",
    "            count += 1\n",
    "        return A * total"
   ]
  },
  {
   "cell_type": "code",
   "execution_count": 4,
   "metadata": {},
   "outputs": [],
   "source": [
    "params = { \"A\":3., \"x\":2., \"n\":2 }"
   ]
  },
  {
   "cell_type": "code",
   "execution_count": 5,
   "metadata": {},
   "outputs": [
    {
     "data": {
      "text/plain": [
       "12.0"
      ]
     },
     "execution_count": 5,
     "metadata": {},
     "output_type": "execute_result"
    }
   ],
   "source": [
    "func_exp(params)"
   ]
  },
  {
   "cell_type": "markdown",
   "metadata": {},
   "source": [
    "### Function that computes $\\exp(x) \\approx 1 + x + \\frac{x^2}{2!} + \\cdots + \\frac{x^n}{n!}$ <a name=\"Exp\"></a>\n",
    "### without using dictionaries in this case (old school)"
   ]
  },
  {
   "cell_type": "code",
   "execution_count": 7,
   "metadata": {},
   "outputs": [],
   "source": [
    "def exp_taylor(x, n):\n",
    "    y = 1\n",
    "    fact = 1\n",
    "    for i in range(1,n+1):\n",
    "        fact += fact*i\n",
    "        y += x**n/fact\n",
    "    return y"
   ]
  },
  {
   "cell_type": "code",
   "execution_count": 12,
   "metadata": {},
   "outputs": [
    {
     "data": {
      "text/plain": [
       "1.7182815255731925"
      ]
     },
     "execution_count": 12,
     "metadata": {},
     "output_type": "execute_result"
    }
   ],
   "source": [
    "exp_taylor(1,8)"
   ]
  },
  {
   "cell_type": "code",
   "execution_count": 16,
   "metadata": {},
   "outputs": [
    {
     "data": {
      "text/plain": [
       "2.718281828459045"
      ]
     },
     "execution_count": 16,
     "metadata": {},
     "output_type": "execute_result"
    }
   ],
   "source": [
    "np.e"
   ]
  },
  {
   "cell_type": "markdown",
   "metadata": {},
   "source": [
    "it seems like I have an error of 1 :D"
   ]
  }
 ],
 "metadata": {
  "kernelspec": {
   "display_name": "Python 3",
   "language": "python",
   "name": "python3"
  },
  "language_info": {
   "codemirror_mode": {
    "name": "ipython",
    "version": 3
   },
   "file_extension": ".py",
   "mimetype": "text/x-python",
   "name": "python",
   "nbconvert_exporter": "python",
   "pygments_lexer": "ipython3",
   "version": "3.6.9"
  }
 },
 "nbformat": 4,
 "nbformat_minor": 5
}
