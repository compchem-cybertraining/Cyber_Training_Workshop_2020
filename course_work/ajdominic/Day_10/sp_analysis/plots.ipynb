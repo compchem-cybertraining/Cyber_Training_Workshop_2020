{
 "cells": [
  {
   "cell_type": "markdown",
   "id": "7f2735d6",
   "metadata": {},
   "source": [
    "## Single-point calculation of Polyphenylene Ethynylene Dendrimer (PPE)\n",
    "\n",
    "A single-point molecular dynamics simulation was performed following the procedure from:\n",
    "* <i>J. Chem. Theory Comput. 2020, 16, 5771-5783.</i> \n",
    "This simulation was run in the absence of a solvent and used the COSMO potential.\n",
    "\n",
    "Important parameters include:\n",
    "* `grms_tol` = 0.001\n",
    "* `verbosity` = 5\n",
    "* `natoms` = 48\n",
    "* `rnd_seed` = 194345\n",
    "* `bo_dynamics_flag` = 1\n",
    "* `exc_state_init` = 0\n",
    "* `n_exc_states_propagate` = 11\n",
    "* `n_class_steps` = 0\n",
    "* `n_quant_steps` = 4\n",
    "* `decoher_type` = 2\n",
    "* `dotrivial` = 1\n",
    "* `quant_step_reduction_factor` = 2.5d-2\n",
    "* `verbosity` = 3 (in the outpu & log parameters section)"
   ]
  },
  {
   "cell_type": "markdown",
   "id": "0890db95",
   "metadata": {},
   "source": [
    "### Setup instructions\n",
    "1. To set up the simulation, I created a directory named `singlepoint` with a file named `header` in it (see file named header for an example).\n",
    "\n",
    "2. Then I used `python getexcited.py` to prepare input files for single-point calculations with [651,1300,650] and allocating 130 single-point calculations to each folder. \n",
    "\n",
    "3. <b>Step 2</b> generated five folders: `NEXMD1`, `NEXMD2`, `NEXMD3`, `NEXMD4`, and `NEXMD5`. In each of these folders, there are 130 trajectories with input.ceon files that need to be executed for single-point calculations. I did so with the following Linux commands:\n",
    "\n",
    "* for word in \\$(cat dirlist);\n",
    "\n",
    "* \\>do\n",
    "* \\>cd ./$word\n",
    "* \\>nexmd.exe > md.out\n",
    "* \\>cd ..\n",
    "* \\>done\n",
    "\n",
    "4. Then from the master directory, I selected to generated an optical spectrum from single-point calculations with the following:\n",
    "\n",
    "* 2\n",
    "* singlepoint\n",
    "* 0 (Gaussian spectral lineshape)\n",
    "* 0.36 (FWHM)\n",
    "\n",
    "5. <b>Step 4</b> generated a file named `ceo_gauss.out`. The first column of this file is energy in eV; the last column is the total spectrum; the columns inbetween give the spectrum of each excited state in order from S$_1$ to S$_N$\n",
    "\n",
    "\n"
   ]
  },
  {
   "cell_type": "code",
   "execution_count": 2,
   "id": "fca4efd0",
   "metadata": {},
   "outputs": [],
   "source": [
    "import numpy as np\n",
    "\n",
    "%matplotlib inline\n",
    "import matplotlib.pyplot as plt"
   ]
  },
  {
   "cell_type": "code",
   "execution_count": 3,
   "id": "6b08edac",
   "metadata": {},
   "outputs": [],
   "source": [
    "file_name = \"ceo_gauss.out\"\n",
    "x, *y = np.loadtxt(file_name, delimiter=' ', unpack=True)"
   ]
  },
  {
   "cell_type": "code",
   "execution_count": 6,
   "id": "d6f317f8",
   "metadata": {},
   "outputs": [
    {
     "data": {
      "image/png": "[encoded data removed]",
      "text/plain": [
       "<Figure size 432x288 with 1 Axes>"
      ]
     },
     "metadata": {
      "needs_background": "light"
     },
     "output_type": "display_data"
    }
   ],
   "source": [
    "# plot the data\n",
    "plt.plot(x, y[11],\"k-\",label=\"Total\")\n",
    "plt.plot(x, y[0],label=\"S1\")  \n",
    "plt.plot(x, y[1],label=\"S2\")  \n",
    "plt.plot(x, y[2],label=\"S3\") \n",
    "plt.plot(x, y[3],label=\"s4\")\n",
    "plt.plot(x, y[4],label=\"S5\")\n",
    "plt.plot(x, y[5],label=\"S6\")\n",
    "plt.plot(x, y[6],label=\"S7\")\n",
    "#plt.plot(x, y[7],label=\"S8\")\n",
    "#plt.plot(x, y[8],label=\"S9\")\n",
    "#plt.plot(x, y[9],label=\"S10\")\n",
    "#plt.plot(x, y[10],label=\"S11\")\n",
    "\n",
    "plt.xlabel(\"Energy (eV)\")\n",
    "plt.xlim([2.0, 5.0])\n",
    "plt.ylabel(\"Absorbance (AU)\")\n",
    "plt.legend()\n",
    "plt.show()\n",
    "\n",
    "#print(time.shape)"
   ]
  },
  {
   "cell_type": "code",
   "execution_count": 8,
   "id": "7f0554ab",
   "metadata": {},
   "outputs": [
    {
     "name": "stdout",
     "output_type": "stream",
     "text": [
      "0.088703\n",
      "3.83744\n"
     ]
    }
   ],
   "source": [
    "print(y[6].max())\n",
    "print(x[y[6].argmax()])"
   ]
  },
  {
   "cell_type": "code",
   "execution_count": null,
   "id": "74f5348a",
   "metadata": {},
   "outputs": [],
   "source": []
  }
 ],
 "metadata": {
  "kernelspec": {
   "display_name": "Python 3",
   "language": "python",
   "name": "python3"
  },
  "language_info": {
   "codemirror_mode": {
    "name": "ipython",
    "version": 3
   },
   "file_extension": ".py",
   "mimetype": "text/x-python",
   "name": "python",
   "nbconvert_exporter": "python",
   "pygments_lexer": "ipython3",
   "version": "3.6.13"
  }
 },
 "nbformat": 4,
 "nbformat_minor": 5
}
