{
 "cells": [
  {
   "cell_type": "code",
   "execution_count": 1,
   "id": "c7795499",
   "metadata": {},
   "outputs": [],
   "source": [
    "import h5py\n",
    "f = h5py.File('merged/chunk_01234.hdf5','r')"
   ]
  },
  {
   "cell_type": "code",
   "execution_count": 2,
   "id": "8db39e38",
   "metadata": {},
   "outputs": [
    {
     "data": {
      "text/plain": [
       "<KeysViewHDF5 ['coefficients', 'coupling_0', 'coupling_1', 'coupling_10', 'coupling_11', 'coupling_12', 'coupling_13', 'coupling_14', 'coupling_15', 'coupling_16', 'coupling_17', 'coupling_18', 'coupling_2', 'coupling_20', 'coupling_21', 'coupling_22', 'coupling_23', 'coupling_24', 'coupling_25', 'coupling_26', 'coupling_27', 'coupling_28', 'coupling_3', 'coupling_30', 'coupling_31', 'coupling_32', 'coupling_33', 'coupling_34', 'coupling_35', 'coupling_36', 'coupling_37', 'coupling_38', 'coupling_4', 'coupling_40', 'coupling_41', 'coupling_42', 'coupling_43', 'coupling_44', 'coupling_45', 'coupling_46', 'coupling_47', 'coupling_48', 'coupling_5', 'coupling_6', 'coupling_7', 'coupling_8', 'cp2k', 'eigenvalues', 'energy', 'overlaps_0', 'overlaps_1', 'overlaps_10', 'overlaps_11', 'overlaps_12', 'overlaps_13', 'overlaps_14', 'overlaps_15', 'overlaps_16', 'overlaps_17', 'overlaps_18', 'overlaps_19', 'overlaps_2', 'overlaps_20', 'overlaps_21', 'overlaps_22', 'overlaps_23', 'overlaps_24', 'overlaps_25', 'overlaps_26', 'overlaps_27', 'overlaps_28', 'overlaps_29', 'overlaps_3', 'overlaps_30', 'overlaps_31', 'overlaps_32', 'overlaps_33', 'overlaps_34', 'overlaps_35', 'overlaps_36', 'overlaps_37', 'overlaps_38', 'overlaps_39', 'overlaps_4', 'overlaps_40', 'overlaps_41', 'overlaps_42', 'overlaps_43', 'overlaps_44', 'overlaps_45', 'overlaps_46', 'overlaps_47', 'overlaps_48', 'overlaps_5', 'overlaps_6', 'overlaps_7', 'overlaps_8', 'overlaps_9', 'swaps']>"
      ]
     },
     "execution_count": 2,
     "metadata": {},
     "output_type": "execute_result"
    }
   ],
   "source": [
    "f.keys()"
   ]
  },
  {
   "cell_type": "code",
   "execution_count": 17,
   "id": "4fb5dab7",
   "metadata": {},
   "outputs": [],
   "source": [
    "e_ao0 = f['eigenvalues/point_0'][()]"
   ]
  },
  {
   "cell_type": "code",
   "execution_count": 4,
   "id": "67e2a9e9",
   "metadata": {},
   "outputs": [
    {
     "data": {
      "text/plain": [
       "array([-0.5188178 , -0.41027352, -0.37251705, -0.30336782, -0.24083601,\n",
       "       -0.02819967,  0.13458107,  0.16407472,  0.17420778,  0.26075694],\n",
       "      dtype=float32)"
      ]
     },
     "execution_count": 4,
     "metadata": {},
     "output_type": "execute_result"
    }
   ],
   "source": [
    "e_ao0"
   ]
  },
  {
   "cell_type": "code",
   "execution_count": 18,
   "id": "e0a8803a",
   "metadata": {},
   "outputs": [],
   "source": [
    "e_ao48 = f['eigenvalues/point_48'][()]"
   ]
  },
  {
   "cell_type": "code",
   "execution_count": 6,
   "id": "c8d59234",
   "metadata": {},
   "outputs": [
    {
     "data": {
      "text/plain": [
       "array([-0.51884323, -0.41156045, -0.37211812, -0.30464372, -0.24054945,\n",
       "       -0.02760619,  0.13709313,  0.16320248,  0.1750867 ,  0.26322818],\n",
       "      dtype=float32)"
      ]
     },
     "execution_count": 6,
     "metadata": {},
     "output_type": "execute_result"
    }
   ],
   "source": [
    "e_ao48"
   ]
  },
  {
   "cell_type": "code",
   "execution_count": 3,
   "id": "d3f5323f",
   "metadata": {},
   "outputs": [],
   "source": [
    "overlap01 = f['overlaps_0/mtx_sji_t0'][()]"
   ]
  },
  {
   "cell_type": "code",
   "execution_count": 4,
   "id": "2703a520",
   "metadata": {},
   "outputs": [
    {
     "data": {
      "text/plain": [
       "(10, 10)"
      ]
     },
     "execution_count": 4,
     "metadata": {},
     "output_type": "execute_result"
    }
   ],
   "source": [
    "overlap01.shape"
   ]
  },
  {
   "cell_type": "code",
   "execution_count": 20,
   "id": "cdda3693",
   "metadata": {},
   "outputs": [
    {
     "data": {
      "text/plain": [
       "array([[ 9.9829632e-01, -1.7507146e-03, -6.1903042e-03, -1.1568972e-02,\n",
       "         1.5036222e-02,  3.5139456e-02, -1.3293872e-03, -5.1083474e-04,\n",
       "        -2.6745978e-03, -7.3012449e-03],\n",
       "       [-1.5064416e-03, -9.9703455e-01, -9.3612056e-03,  2.3034444e-02,\n",
       "         1.2466837e-02, -4.2475834e-03,  1.2645829e-03,  2.8822424e-02,\n",
       "        -4.2834319e-03, -1.9484947e-02],\n",
       "       [ 7.5529581e-03, -9.7286692e-03,  9.9751592e-01, -2.0555251e-03,\n",
       "        -5.6876275e-03, -1.7668344e-02,  1.7135398e-02, -1.9244689e-03,\n",
       "        -1.8531581e-02,  4.9586799e-03],\n",
       "       [ 1.1025263e-02,  2.5109826e-02,  2.9978231e-03,  9.9679011e-01,\n",
       "        -1.2691038e-02,  1.4146582e-02, -1.4658433e-02,  9.8782135e-03,\n",
       "         1.8037342e-02, -2.7628157e-03],\n",
       "       [-1.4675749e-02,  1.0337797e-02,  5.8332556e-03,  1.3538715e-02,\n",
       "         9.9599349e-01, -2.5547380e-03, -7.2495459e-04,  1.2716040e-02,\n",
       "        -3.2703688e-03,  4.9484246e-03],\n",
       "       [-3.5077855e-02, -5.9085223e-03,  1.6823521e-02, -1.1434783e-02,\n",
       "        -7.1377413e-05,  9.9570596e-01, -3.2932195e-03, -4.5591090e-03,\n",
       "        -8.0532627e-03,  2.5224702e-03],\n",
       "       [ 1.0678250e-03,  1.5203520e-03, -1.5841726e-02,  1.3154511e-02,\n",
       "        -7.2002417e-04,  3.9551281e-03,  9.9623847e-01,  1.3211918e-02,\n",
       "         3.4030247e-02, -2.7732048e-02],\n",
       "       [ 3.7219477e-04,  2.7566887e-02, -2.6526086e-03, -5.9106620e-03,\n",
       "        -1.3824694e-02,  2.8025499e-03, -3.9835325e-03,  9.6562374e-01,\n",
       "        -2.4951132e-01,  9.9528367e-03],\n",
       "       [ 2.6664326e-03,  2.4805914e-03,  1.8184559e-02, -2.0236019e-02,\n",
       "         7.0983672e-04,  7.8562936e-03, -3.4711763e-02,  2.4825421e-01,\n",
       "         9.6517968e-01,  1.3451042e-02],\n",
       "       [ 7.2643189e-03, -1.9567277e-02, -5.9477072e-03,  5.0184042e-03,\n",
       "        -5.0710905e-03, -4.2702584e-03,  2.6117945e-02, -1.1619495e-02,\n",
       "        -8.2646022e-03,  9.9479181e-01]], dtype=float32)"
      ]
     },
     "execution_count": 20,
     "metadata": {},
     "output_type": "execute_result"
    }
   ],
   "source": [
    "overlap01"
   ]
  },
  {
   "cell_type": "code",
   "execution_count": 5,
   "id": "f85fe1a9",
   "metadata": {},
   "outputs": [],
   "source": [
    "coupling01 =f['coupling_0'][()]"
   ]
  },
  {
   "cell_type": "code",
   "execution_count": 12,
   "id": "b545a8a4",
   "metadata": {},
   "outputs": [
    {
     "data": {
      "text/plain": [
       "array([[ 0.00000000e+00, -5.01559734e-05,  2.11633655e-04,\n",
       "         3.47933877e-04, -4.57545422e-04, -1.08137960e-03,\n",
       "         3.69166373e-05,  1.35968467e-05,  8.22469301e-05,\n",
       "         2.24297677e-04],\n",
       "       [ 5.01569884e-05,  0.00000000e+00,  2.93969031e-04,\n",
       "        -7.41408498e-04, -3.51174473e-04,  1.56392460e-04,\n",
       "        -4.28852691e-05, -8.68392526e-04,  2.77623094e-05,\n",
       "         6.01385487e-04],\n",
       "       [-2.11634746e-04, -2.93967576e-04,  0.00000000e+00,\n",
       "         7.78178292e-05,  1.77410722e-04,  5.31154976e-04,\n",
       "        -5.07826859e-04, -1.12116259e-05,  5.65409020e-04,\n",
       "        -1.67949212e-04],\n",
       "       [-3.47932888e-04,  7.41411059e-04, -7.78173489e-05,\n",
       "         0.00000000e+00,  4.03918704e-04, -3.93934111e-04,\n",
       "         4.28300700e-04, -2.43136004e-04, -5.89390460e-04,\n",
       "         1.19822980e-04],\n",
       "       [ 4.57545801e-04,  3.51173192e-04, -1.77410227e-04,\n",
       "        -4.03917540e-04,  0.00000000e+00,  3.82413564e-05,\n",
       "         7.50979225e-08, -4.08708904e-04,  6.12914955e-05,\n",
       "        -1.54292604e-04],\n",
       "       [ 1.08137960e-03, -1.56395414e-04, -5.31155674e-04,\n",
       "         3.93934461e-04, -3.82411527e-05,  0.00000000e+00,\n",
       "         1.11619403e-04,  1.13365437e-04,  2.44992058e-04,\n",
       "        -1.04602725e-04],\n",
       "       [-3.69155132e-05,  4.28850108e-05,  5.07827790e-04,\n",
       "        -4.28301661e-04, -7.55618501e-08, -1.11617839e-04,\n",
       "         0.00000000e+00, -2.64796545e-04, -1.05865579e-03,\n",
       "         8.29283730e-04],\n",
       "       [-1.35984064e-05,  8.68394913e-04,  1.12137232e-05,\n",
       "         2.43136979e-04,  4.08707449e-04, -1.13363953e-04,\n",
       "         2.64796457e-04,  0.00000000e+00,  7.70024490e-03,\n",
       "        -3.32197727e-04],\n",
       "       [-8.22481015e-05, -2.77619783e-05, -5.65410824e-04,\n",
       "         5.89391100e-04, -6.12925796e-05, -2.44993891e-04,\n",
       "         1.05865416e-03, -7.70024536e-03,  0.00000000e+00,\n",
       "        -3.34405253e-04],\n",
       "       [-2.24296731e-04, -6.01385895e-04,  1.67948136e-04,\n",
       "        -1.19824028e-04,  1.54292444e-04,  1.04603401e-04,\n",
       "        -8.29284603e-04,  3.32198135e-04,  3.34404962e-04,\n",
       "         0.00000000e+00]], dtype=float32)"
      ]
     },
     "execution_count": 12,
     "metadata": {},
     "output_type": "execute_result"
    }
   ],
   "source": [
    "#dij frequency (time expressed in atomic units)\n",
    "coupling01"
   ]
  },
  {
   "cell_type": "code",
   "execution_count": 21,
   "id": "c9cc4563",
   "metadata": {},
   "outputs": [],
   "source": [
    "#hij = -i*hbar*dij"
   ]
  },
  {
   "cell_type": "code",
   "execution_count": null,
   "id": "514cef09",
   "metadata": {},
   "outputs": [],
   "source": [
    "from nanoqm.common import hbar, femtosec2au\n",
    "#convert coupling in fs-1\n",
    "d01=coupling01[0][1] * femtosec2au\n",
    "#hij[eV] = -i*hbar[eV*fs]*dij[fs-1]\n",
    "h01_im = hbar * d01\n",
    "h01_im"
   ]
  }
 ],
 "metadata": {
  "kernelspec": {
   "display_name": "Python 3.6 (qmflows)",
   "language": "python",
   "name": "qmflows"
  },
  "language_info": {
   "codemirror_mode": {
    "name": "ipython",
    "version": 3
   },
   "file_extension": ".py",
   "mimetype": "text/x-python",
   "name": "python",
   "nbconvert_exporter": "python",
   "pygments_lexer": "ipython3",
   "version": "3.7.10"
  }
 },
 "nbformat": 4,
 "nbformat_minor": 5
}
