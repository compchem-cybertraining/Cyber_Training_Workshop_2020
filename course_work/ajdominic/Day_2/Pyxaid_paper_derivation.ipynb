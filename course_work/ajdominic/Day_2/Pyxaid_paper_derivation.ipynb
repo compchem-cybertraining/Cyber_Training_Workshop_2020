{
 "cells": [
  {
   "cell_type": "markdown",
   "id": "45c71255",
   "metadata": {},
   "source": [
    "### Proof of equation (9a) from J. Chem. Theory Comput. 2014, 10, 789−804"
   ]
  },
  {
   "cell_type": "markdown",
   "id": "6fe73f06",
   "metadata": {},
   "source": [
    "In this document, I will show that $\\exp\\left(\\alpha_i \\cdot dt \\cdot c_i \\dfrac{\\partial}{\\partial c_i} \\right)$ maps $c_i$ to $\\exp(\\alpha \\cdot dt) c_i$, i.e. \n",
    "\n",
    "\\begin{align*}\n",
    "    e^{\\alpha \\cdot dt \\cdot c \\frac{\\partial}{\\partial c}} c = e^{\\alpha \\cdot dt } c,\n",
    "\\end{align*}\n",
    "\n",
    "where we've droppwed the subscripts for convenience. First, we define the set \n",
    "\n",
    "\\begin{align*}\n",
    "    S &= \\left\\{ n \\in \\mathbb{N} : \\dfrac{1}{n!} \\left( \\alpha \\cdot dt \\cdot c \\cdot \\dfrac{\\partial}{\\partial c} \\right)^n c = \\dfrac{1}{n!}(\\alpha \\cdot dt )^n c \\right\\}\\\\\n",
    "    &= \\left\\{ n \\in \\mathbb{N} :  \\left( \\alpha \\cdot dt \\cdot c \\cdot \\dfrac{\\partial}{\\partial c} \\right)^n c = (\\alpha \\cdot dt )^n c \\right\\}.\n",
    "\\end{align*}\n",
    "\n",
    "Note that if $\\mathbb{N} = S$, then the desired relationship holds as it would follow that \n",
    "\n",
    "\\begin{align*}\n",
    "    \\sum_{n=0}^\\infty \\dfrac{1}{n!} \\left( \\alpha \\cdot dt \\cdot c \\cdot \\dfrac{\\partial}{\\partial c} \\right)^n c = \\sum_{n=0}^\\infty \\dfrac{1}{n!}(\\alpha \\cdot dt )^n c,\n",
    "\\end{align*}\n",
    "\n",
    "which is equivalent to \n",
    "\n",
    "\\begin{align*}\n",
    "    e^{\\alpha \\cdot dt \\cdot c \\frac{\\partial}{\\partial c}} c = e^{\\alpha \\cdot dt } c.\n",
    "\\end{align*}"
   ]
  },
  {
   "cell_type": "markdown",
   "id": "c81740f4",
   "metadata": {},
   "source": [
    "$\\,\\text{ }\\,\\text{ }\\,$ Working towards a proof via induction, we observe that\n",
    "\n",
    "\\begin{align*}\n",
    "    \\left( \\alpha \\cdot dt \\cdot c \\cdot \\dfrac{\\partial}{\\partial c} \\right)^1 c &= \\alpha \\cdot dt \\cdot c \\cdot \\dfrac{\\partial}{\\partial c}c\\\\\n",
    "    &= \\alpha \\cdot dt \\cdot c\\\\\n",
    "    &= (\\alpha \\cdot dt)^1 c,\n",
    "\\end{align*}\n",
    "\n",
    "and we conclude $1 \\in S$. Next, we let $k \\in S$ where $k > 1$ is a natural number. Our definition of $S$ shows us that $k$ satisfies\n",
    "\n",
    "\\begin{align*}\n",
    "    \\left( \\alpha \\cdot dt \\cdot c \\cdot \\dfrac{\\partial}{\\partial c} \\right)^k c = (\\alpha \\cdot dt )^k c.\n",
    "\\end{align*}\n",
    "\n",
    "Consequently,\n",
    "\\begin{align*}\n",
    "    \\left( \\alpha \\cdot dt \\cdot c \\cdot \\dfrac{\\partial}{\\partial c} \\right)^{k+1} c &= \\left( \\alpha \\cdot dt \\cdot c \\cdot \\dfrac{\\partial}{\\partial c} \\right)\\left( \\alpha \\cdot dt \\cdot c \\cdot \\dfrac{\\partial}{\\partial c} \\right)^k c\\\\\n",
    "    &= \\left( \\alpha \\cdot dt \\cdot c \\cdot \\dfrac{\\partial}{\\partial c} \\right) (\\alpha \\cdot dt )^k c \\\\\n",
    "    &= (\\alpha \\cdot dt)^{k+1} c \\cdot \\dfrac{\\partial}{\\partial c} c \\\\\n",
    "    &= (\\alpha \\cdot dt)^{k+1} c,\n",
    "\\end{align*}\n",
    "\n",
    "and hence $k+1 \\in S$. With this we are safe to conclude that $S = \\mathbb{N}$ and that \n",
    "\n",
    "\\begin{align*}\n",
    "    e^{\\alpha_i \\cdot dt \\cdot c_i \\frac{\\partial}{\\partial c_i}} c_i = e^{\\alpha_i \\cdot dt } c_i.\n",
    "\\end{align*}"
   ]
  },
  {
   "cell_type": "code",
   "execution_count": null,
   "id": "883d2734",
   "metadata": {},
   "outputs": [],
   "source": []
  }
 ],
 "metadata": {
  "kernelspec": {
   "display_name": "Python 3",
   "language": "python",
   "name": "python3"
  },
  "language_info": {
   "codemirror_mode": {
    "name": "ipython",
    "version": 3
   },
   "file_extension": ".py",
   "mimetype": "text/x-python",
   "name": "python",
   "nbconvert_exporter": "python",
   "pygments_lexer": "ipython3",
   "version": "3.6.13"
  }
 },
 "nbformat": 4,
 "nbformat_minor": 5
}
