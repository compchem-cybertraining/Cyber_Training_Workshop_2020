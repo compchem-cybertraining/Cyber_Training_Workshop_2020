{
 "cells": [
  {
   "cell_type": "markdown",
   "id": "7744d7b5",
   "metadata": {},
   "source": [
    "# Day 1 Exercises\n",
    "\n",
    "## Table of Contents\n",
    "<a name=\"toc\"></a>\n",
    "1. [$f(x) = Ax^n$](#Function)\n",
    "2. [$f(x) = \\exp(x)$](#Exp) \n",
    "3. [Harmonic Potential Force.](#force) \n",
    "4. [Euler integrator](#Euler) \n",
    "5. [Verlet/Leapfrog integrator](#Verlet)\n",
    "6. [Runge-Kutta integrator](#RK4)\n",
    "7. [Simpson's rule](#Simpson's)"
   ]
  },
  {
   "cell_type": "code",
   "execution_count": 1,
   "id": "f7a8e19f",
   "metadata": {},
   "outputs": [],
   "source": [
    "import h5py\n",
    "import numpy as np\n",
    "from math import factorial"
   ]
  },
  {
   "cell_type": "markdown",
   "id": "736e30b1",
   "metadata": {},
   "source": [
    "## 1. Function that computes $f(x) = Ax^n.$ <a name=\"Function\"></a>\n",
    "[Return to Table of contents](#toc)"
   ]
  },
  {
   "cell_type": "code",
   "execution_count": 5,
   "id": "5b298c28",
   "metadata": {},
   "outputs": [],
   "source": [
    "def Ax_n(parms):\n",
    "    \"\"\"\n",
    "    Inputs:\n",
    "    1. parms - a dictionary containing the coefficient, A, the value of x, and the integer exponent n\n",
    "    \n",
    "    Outputs:\n",
    "    1. returns the value of Ax^n\n",
    "    \"\"\"\n",
    "    \n",
    "    A = parms[\"A\"]\n",
    "    x = parms[\"x\"]\n",
    "    n = parms[\"n\"]\n",
    "    \n",
    "    if (n == 0):\n",
    "        return A\n",
    "    \n",
    "    elif (n > 0):\n",
    "        total = 1.0\n",
    "        ctr = 0\n",
    "        while (ctr < n):\n",
    "            total = total * x\n",
    "            ctr = ctr + 1\n",
    "            \n",
    "        return A * total\n",
    "    \n",
    "    else:\n",
    "        total = 1.0\n",
    "        ctr = 0\n",
    "        while (ctr < np.abs(n)):\n",
    "            total = total / x\n",
    "            ctr = ctr + 1\n",
    "            \n",
    "        return A * total"
   ]
  },
  {
   "cell_type": "code",
   "execution_count": 6,
   "id": "60e7f09e",
   "metadata": {},
   "outputs": [
    {
     "name": "stdout",
     "output_type": "stream",
     "text": [
      "10.0\n"
     ]
    }
   ],
   "source": [
    "# test\n",
    "parms = { \"A\":5.0, \"x\":2.0, \"n\":1 }\n",
    "print(Ax_n(parms))"
   ]
  },
  {
   "cell_type": "markdown",
   "id": "0d37580c",
   "metadata": {},
   "source": [
    "## 2. Function that computes $\\exp(x) \\approx 1 + x + \\frac{x^2}{2!} + \\cdots + \\frac{x^n}{n!}$ <a name=\"Exp\"></a>\n",
    "[Return to Table of contents](#toc)"
   ]
  },
  {
   "cell_type": "code",
   "execution_count": 7,
   "id": "3f586bcf",
   "metadata": {},
   "outputs": [],
   "source": [
    "def exp(params):\n",
    "    \"\"\"\n",
    "    Inputs:\n",
    "    1. params - a dictionary containing the specific value which we evaluate e^x at as well as the order to which\n",
    "                we would like to be accurate, n\n",
    "    \n",
    "    Outputs:\n",
    "    1. returns the value of e^x\n",
    "    \"\"\"\n",
    "    # first make sure that the order is sensible\n",
    "    n = params[\"order\"]\n",
    "    if (n < 0):\n",
    "        return \"Invalid entry, please enter nonnegative orders.\"\n",
    "    \n",
    "    # compute e^x\n",
    "    else:\n",
    "        x = params[\"x\"]\n",
    "        total = 0.0\n",
    "        \n",
    "        # the part that actually does the computation, using the function above, Ax^n\n",
    "        for i in range(n):\n",
    "            temp = Ax_n({ \"A\":1.0, \"x\":x, \"n\":i }) / factorial(i)\n",
    "            total = total + temp\n",
    "            \n",
    "        return total"
   ]
  },
  {
   "cell_type": "code",
   "execution_count": 8,
   "id": "c6e2529b",
   "metadata": {},
   "outputs": [
    {
     "name": "stdout",
     "output_type": "stream",
     "text": [
      "13.0\n"
     ]
    }
   ],
   "source": [
    "# test\n",
    "params = {\"x\":3.0, \"order\":4}\n",
    "print(exp(params))"
   ]
  },
  {
   "cell_type": "markdown",
   "id": "e270c297",
   "metadata": {},
   "source": [
    "## 3. Harmonic potential <a name=\"force\"></a>\n",
    "[Return to Table of contents](#toc)\n",
    "\n",
    "We will assume the force is derived from a harmonic potential in unless stated otherwise:\n",
    "\n",
    "\n",
    "\\begin{align*}\n",
    "    V(\\mathbf{q}) = \\dfrac{1}{2}\\sum_j k_j(q_j - q_{j,0})^2.\n",
    "\\end{align*}\n",
    "\n",
    "With this in mind, \n",
    "\n",
    "\\begin{align*}\n",
    "    F_j(t) = -\\dfrac{\\partial V}{\\partial q_j} = - k_j (q_j - q_{j,0}).\n",
    "\\end{align*}"
   ]
  },
  {
   "cell_type": "code",
   "execution_count": 9,
   "id": "0efbb1e9",
   "metadata": {},
   "outputs": [],
   "source": [
    "def get_force(q, params):\n",
    "    \"\"\"\n",
    "    Returns the force derived from a harmonic potential.\n",
    "    \n",
    "    Inputs:\n",
    "    1. q      - coordinates of the harmonic oscillator\n",
    "    2. params - dictionary with mass, equilibrium position, and force constant of the harmonic oscillator\n",
    "    \n",
    "    Outputs:\n",
    "    1. returns force\n",
    "    \"\"\"\n",
    "    \n",
    "    force_const = params[\"force_const\"]\n",
    "    equi_pos = params[\"q0\"]\n",
    "    \n",
    "    return - force_const * (q - equi_pos)"
   ]
  },
  {
   "cell_type": "markdown",
   "id": "9cd48928",
   "metadata": {},
   "source": [
    "## 4. Euler integration <a name=\"Euler\"></a>\n",
    "[Return to Table of contents](#toc)\n",
    "\n",
    "This integrator updates the positions and momenta of the selected degrees of freedom using the Euler Integration scheme:\n",
    "\n",
    "\\begin{align*}\n",
    "    q_k(t + \\Delta t) &= q_k(t) + \\dfrac{\\Delta t}{m_k} \\cdot p_k(t)\\\\\n",
    "    p_k(t + \\Delta t) &= p_k(t) + \\Delta t \\cdot F_k(t).\n",
    "\\end{align*}"
   ]
  },
  {
   "cell_type": "code",
   "execution_count": 10,
   "id": "7bfbf577",
   "metadata": {},
   "outputs": [],
   "source": [
    "# Used the RK4 tutorial as a guide to set up efficiently\n",
    "def euler_update(q, p, params, dt):\n",
    "    \"\"\"\n",
    "    Updates the positions and momenta of the harmonic oscillator using a for loop.\n",
    "    Inputs:\n",
    "    1. q      - coordinates of the harmonic oscillator\n",
    "    2. p      - momenta of the harmonic oscillator\n",
    "    3. params - dictionary with mass, equilibrium position, and force constant of the harmonic oscillator\n",
    "    4. dt     - time-step \n",
    "    \n",
    "    Outputs:\n",
    "    1. returns the updated positions and momenta \n",
    "    \"\"\"\n",
    "    force_const = params[\"force_const\"]\n",
    "    equi_pos = params[\"q0\"]\n",
    "    mass = params[\"mass\"]\n",
    "    ndof = len(q)\n",
    "    \n",
    "    for dof in range(ndof):\n",
    "        force = - force_const * (q[dof] - equi_pos)\n",
    "        q[dof] = q[dof] + (dt * p[dof] / mass)\n",
    "        p[dof] = p[dof] + (dt * force)\n",
    "        \n",
    "    return q, p"
   ]
  },
  {
   "cell_type": "code",
   "execution_count": 11,
   "id": "717215d8",
   "metadata": {},
   "outputs": [
    {
     "name": "stdout",
     "output_type": "stream",
     "text": [
      "(array([2., 2.]), array([0., 0.]))\n"
     ]
    }
   ],
   "source": [
    "# test\n",
    "a = np.array([1.0, 1.0])\n",
    "b = np.array([1.0, 1.0])\n",
    "euler_params = {\"force_const\":1.0, \"q0\": 0.0, \"mass\":1.0} # dictionary\n",
    "dt = 1.0\n",
    "print(euler_update(a, b, euler_params, dt))"
   ]
  },
  {
   "cell_type": "code",
   "execution_count": 12,
   "id": "e630dba4",
   "metadata": {},
   "outputs": [],
   "source": [
    "def euler_update_vectorized(q, p, params, dt):\n",
    "    \"\"\"\n",
    "    Updates the positions and momenta of the harmonic oscillator without direct loops.\n",
    "    Inputs:\n",
    "    1. q      - coordinates of the harmonic oscillator\n",
    "    2. p      - momenta of the harmonic oscillator\n",
    "    3. params - dictionary with mass, equilibrium position, and force constant of the harmonic oscillator\n",
    "    4. dt     - time-step \n",
    "    \n",
    "    Outputs:\n",
    "    1. returns the updated positions and momenta \n",
    "    \"\"\"\n",
    "    \n",
    "    mass = params[\"mass\"]\n",
    "    \n",
    "    force = get_force(q, params)\n",
    "    \n",
    "    q = q + (dt * p) / mass\n",
    "    p = p + (dt * force)\n",
    "    \n",
    "    return q, p"
   ]
  },
  {
   "cell_type": "code",
   "execution_count": 13,
   "id": "e8563101",
   "metadata": {},
   "outputs": [
    {
     "name": "stdout",
     "output_type": "stream",
     "text": [
      "(array([2., 2.]), array([0., 0.]))\n"
     ]
    }
   ],
   "source": [
    "# test\n",
    "a = np.array([1.0, 1.0])\n",
    "b = np.array([1.0, 1.0])\n",
    "euler_params = {\"force_const\":1.0, \"q0\": 0.0, \"mass\":1.0}\n",
    "dt = 1.0\n",
    "print(euler_update_vectorized(a, b, euler_params, dt))"
   ]
  },
  {
   "cell_type": "markdown",
   "id": "934695d3",
   "metadata": {},
   "source": [
    "## 5. Verlet/Leapfrog Integration <a name=\"Verlet\"></a>\n",
    "[Return to Table of contents](#toc)\n",
    "\n",
    "This integrator updates the positions and momenta of the selected degrees of freedom using the Verlet Integration scheme:\n",
    "\n",
    "\\begin{align*}\n",
    "    q_k(t + \\Delta t) &= 2q(t) - q(t - \\Delta t) + \\dfrac{2\\Delta t^2}{m}F(t)\\\\\n",
    "    p_k(t) &= \\dfrac{m}{2\\Delta t} [q(t + \\Delta t) - q(t - \\Delta t)].\n",
    "\\end{align*}"
   ]
  },
  {
   "cell_type": "code",
   "execution_count": 14,
   "id": "c86d2dc5",
   "metadata": {},
   "outputs": [],
   "source": [
    "def verlet_update(q_current, q_previous, params, dt):\n",
    "    \"\"\"\n",
    "    Updates the positions and momenta of the harmonic oscillator without direct loops.\n",
    "    \n",
    "    q(t + dt) = q(t) - q(t - dt) + (F(t) * dt^2)/m\n",
    "    p(t) = (q(t+dt) - q(t-dt))/(2mdt)\n",
    "    \n",
    "    Inputs:\n",
    "    1. q_current   - current coordinates of the harmonic oscillator, q(t)\n",
    "    2. q_previous  - previous coordinates of the harmonic oscillator, q(t - dt)\n",
    "    3. params      - dictionary with mass, equilibrium position, and force constant of the harmonic oscillator\n",
    "    4. dt          - time-step \n",
    "    \n",
    "    Outputs:\n",
    "    1. q_update  - the updated positions, q(t + dt)\n",
    "    2. q_current - the current positions q(t) in this pass will be the \"previous\" coordinates in the next pass\n",
    "    3. p         - the momenta p(t) (for tracking)\n",
    "    \"\"\"\n",
    "    \n",
    "    mass = params[\"mass\"]\n",
    "    ndof = len(q)\n",
    "    \n",
    "    # compute the force\n",
    "    force = get_force(q, params)\n",
    "    force = - force_const * (q - equi_pos)\n",
    "    \n",
    "    q_update = 2 * q_current - q_previous + (2 * (dt**2) * force) / mass\n",
    "    p = m * (q_update - q_previous) / (2 * dt)\n",
    "        \n",
    "    return q_update, q_current, p"
   ]
  },
  {
   "cell_type": "markdown",
   "id": "61bdcc96",
   "metadata": {},
   "source": [
    "## 6. Runge-Kutta Algorithm <a name=\"RK4\"></a>\n",
    "[Return to Table of contents](#toc)"
   ]
  },
  {
   "cell_type": "markdown",
   "id": "2d81dffa",
   "metadata": {},
   "source": [
    "We are given a first order differential equation of the form $$ \\dfrac{dx}{dt} = f(x,t), $$ subject to $x(t_0) = x_0$ on the interval $[a,b]$. We split the interval into $N$ steps, and for each step ($n\\geq0$), but the difference lies in the computation of $x_{n+1}$. Now $x_{n+1} = x_n + h*k$, where $h = (b-a)/N$ and $k = (k_1 + 2k_2 + 2k_3 + k_4)/6$ with\n",
    "\n",
    "\\begin{align*}\n",
    "    k_1 &= f(t_n,x_n)\\\\\n",
    "    k_2 &= f(t_n + 0.5h, x_n + 0.5hk_1)\\\\\n",
    "    k_3 &= f(t_n + 0.5h, x_n + 0.5hk_2)\\\\\n",
    "    k_4 &= f(t_{n+1}, x_n + hk_3).\n",
    "\\end{align*}"
   ]
  },
  {
   "cell_type": "code",
   "execution_count": 2,
   "id": "bed14710",
   "metadata": {},
   "outputs": [
    {
     "ename": "NameError",
     "evalue": "name 'np' is not defined",
     "output_type": "error",
     "traceback": [
      "\u001b[0;31m---------------------------------------------------------------------------\u001b[0m",
      "\u001b[0;31mNameError\u001b[0m                                 Traceback (most recent call last)",
      "\u001b[0;32m<ipython-input-2-6e44e84ad88f>\u001b[0m in \u001b[0;36m<module>\u001b[0;34m\u001b[0m\n\u001b[1;32m      1\u001b[0m \u001b[0;31m# I wrote this when I first started learning Python -- I will adapt it to this code soon.\u001b[0m\u001b[0;34m\u001b[0m\u001b[0;34m\u001b[0m\u001b[0;34m\u001b[0m\u001b[0m\n\u001b[1;32m      2\u001b[0m \u001b[0;31m# creates an array with 1000 steps from 0 to 10\u001b[0m\u001b[0;34m\u001b[0m\u001b[0;34m\u001b[0m\u001b[0;34m\u001b[0m\u001b[0m\n\u001b[0;32m----> 3\u001b[0;31m \u001b[0mrktpoints\u001b[0m \u001b[0;34m=\u001b[0m \u001b[0mnp\u001b[0m\u001b[0;34m.\u001b[0m\u001b[0marange\u001b[0m\u001b[0;34m(\u001b[0m\u001b[0ma\u001b[0m\u001b[0;34m,\u001b[0m\u001b[0mb\u001b[0m\u001b[0;34m,\u001b[0m\u001b[0mh\u001b[0m\u001b[0;34m)\u001b[0m\u001b[0;34m\u001b[0m\u001b[0;34m\u001b[0m\u001b[0m\n\u001b[0m\u001b[1;32m      4\u001b[0m \u001b[0;34m\u001b[0m\u001b[0m\n\u001b[1;32m      5\u001b[0m \u001b[0;31m# calculate x_{n+1} and add to the x array\u001b[0m\u001b[0;34m\u001b[0m\u001b[0;34m\u001b[0m\u001b[0;34m\u001b[0m\u001b[0m\n",
      "\u001b[0;31mNameError\u001b[0m: name 'np' is not defined"
     ]
    }
   ],
   "source": [
    "# I wrote this when I first started learning Python -- I will adapt it to this code soon.\n",
    "# creates an array with 1000 steps from 0 to 10\n",
    "rktpoints = arange(a,b,h) \n",
    "\n",
    "# calculate x_{n+1} and add to the x array\n",
    "rkxpoints = []\n",
    "for t in rktpoints:\n",
    "    rkxpoints.append(x)\n",
    "    k1 = f(x,t)\n",
    "    k2 = f(x + 0.5*h*k1, t + 0.5*h)\n",
    "    k3 = f(x + 0.5*h*k2, t + 0.5*h)\n",
    "    k4 = f(x + h*k3, t + h)\n",
    "    k = (k1 + k2 + k3 + k4)/6\n",
    "    x += h*k\n",
    "    \n",
    "# plot the data\n",
    "plot(rktpoints,rkxpoints,\"g--\")\n",
    "xlabel(\"t\")\n",
    "ylabel(\"x(t)\")\n",
    "show()"
   ]
  },
  {
   "cell_type": "markdown",
   "id": "a6eeb194",
   "metadata": {},
   "source": [
    "## 7. Simpson's rule <a name=\"Simpson's\"></a>\n",
    "[Return to Table of contents](#toc)\n",
    "Let $f:[a,b]\\rightarrow \\mathbb{R}$ be a continuous function. We can divide the interval $[a,b]$ into $n$ partions in the following manner \n",
    "\n",
    "\\begin{align*}\n",
    "    a = x_0 < x_1 < x_2 < \\cdots < x_{n-1} < x_n = b.\n",
    "\\end{align*}\n",
    "\n",
    "We define $\\Delta x = (b-a)/n$ and construct the sequence $\\{S_n \\}$ defined by\n",
    "\n",
    "\\begin{align*}\n",
    "    S_n = \\dfrac{\\Delta x}{3} \\left[ f(x_0) + 4 f(x_1) + 2f(x_2) + 4 f(x_3) + \\cdots +2 f(x_{n-2}) + 4 f(x_{n-1}) + f(x_n) \\right].\n",
    "\\end{align*}\n",
    "\n",
    "Simpson's rule ultimately shows \n",
    "\n",
    "\\begin{align*}\n",
    "    \\lim_{n \\rightarrow \\infty} S_n = \\int_a^b f(x)\\, dx.\n",
    "\\end{align*}\n",
    "\n",
    "\n",
    "<p id=\"citeText\">Numerical Integration - Midpoint, Trapezoid, Simpson’s Rule. 20 Dec. 2020, https://math.libretexts.org/@go/page/10269.\n",
    "</p>"
   ]
  },
  {
   "cell_type": "code",
   "execution_count": 15,
   "id": "f414f15c",
   "metadata": {},
   "outputs": [
    {
     "name": "stdout",
     "output_type": "stream",
     "text": [
      "5.333333333333339\n"
     ]
    }
   ],
   "source": [
    "# assume function has been previously defined\n",
    "def f(x):\n",
    "    return -x**2 + x + 3\n",
    "\n",
    "def integrate_simpsons(params):\n",
    "    \"\"\"\n",
    "    Computes the value of an integral using Simpon's rule, which is outlined above (note the reference at the bottom).\n",
    "            \n",
    "    Inputs:\n",
    "    1. params - a dictionary containing \n",
    "                a) a lower bound, lb\n",
    "                b) an upper bound, ub\n",
    "                c) the number of desired subintervals\n",
    "                *note that the function can be defined in the function above.\n",
    "    \n",
    "    Outputs:\n",
    "    1. The numerical value of the integral over the given set. \n",
    "    \"\"\"\n",
    "    \n",
    "    b = params[\"ub\"]\n",
    "    a = params[\"lb\"]\n",
    "    n = params[\"subintervals\"]\n",
    "    dx = (b - a) / n\n",
    "    \n",
    "    # intialize total to keep track\n",
    "    total = 0.0\n",
    "    for i in range(n+1):\n",
    "        arg = a + (i * dx)\n",
    "        #array[i] = f(arg)\n",
    "        \n",
    "        # in the defining sequence, one is the coefficient of both x_0 and x_n\n",
    "        if ((i == 0) or (i == n)):\n",
    "            # replace array[i] with f(arg)\n",
    "            total = total + f(arg)\n",
    "            \n",
    "        # in the defining sequence, the even indexed elements have a coefficient of 2\n",
    "        elif (i%2 == 0):\n",
    "            total = total + 2 * f(arg)\n",
    "        \n",
    "        # in the defining sequence, the odd indexed elements have a coefficient of 4\n",
    "        else:\n",
    "            total = total + 4 * f(arg)\n",
    "    \n",
    "    # after summing up, we multiply by dx and divide by 3\n",
    "    return total * dx / 3\n",
    "    \n",
    "# test\n",
    "simpsons_params = {\"lb\":0, \"ub\":2, \"subintervals\": 1000}\n",
    "print(integrate_simpsons(simpsons_params))\n"
   ]
  }
 ],
 "metadata": {
  "kernelspec": {
   "display_name": "Python 3.6 (libra-latest)",
   "language": "python",
   "name": "libra-plus"
  },
  "language_info": {
   "codemirror_mode": {
    "name": "ipython",
    "version": 3
   },
   "file_extension": ".py",
   "mimetype": "text/x-python",
   "name": "python",
   "nbconvert_exporter": "python",
   "pygments_lexer": "ipython3",
   "version": "3.6.13"
  }
 },
 "nbformat": 4,
 "nbformat_minor": 5
}
